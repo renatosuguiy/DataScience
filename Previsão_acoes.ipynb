{
 "cells": [
  {
   "cell_type": "markdown",
   "metadata": {
    "colab_type": "text",
    "id": "2Pmxv2ioyCRw"
   },
   "source": [
    "## Copyright 2019 The TensorFlow Authors.\n",
    "@Adaptado por Renato Suguiy\n",
    "\n",
    "\n",
    "---\n",
    "\n"
   ]
  },
  {
   "cell_type": "markdown",
   "metadata": {
    "colab_type": "text",
    "id": "pa49bUnKyRgF"
   },
   "source": [
    "# **Previsão do Valor de Ações usando Recurrent Neural Network**\n",
    "\n",
    "## Trabalho feito para a matéria de Deep Learning da Pós-Graduação em Ciência de Dados ofertado pela PUCPR - Curutiba.\n",
    "## Ministrado pelo professor Alceu de Souza Britto Jr.\n",
    "## Elaborado por Renato Suguiy"
   ]
  },
  {
   "cell_type": "code",
   "execution_count": 5,
   "metadata": {
    "colab": {},
    "colab_type": "code",
    "executionInfo": {
     "elapsed": 1210,
     "status": "ok",
     "timestamp": 1592941597943,
     "user": {
      "displayName": "Renato Tateiwa Suguiy",
      "photoUrl": "https://lh3.googleusercontent.com/a-/AOh14GgAOxrgKmMPt_o03rG41NrymipL5mFKRBjqvraS=s64",
      "userId": "12331134297691695995"
     },
     "user_tz": 180
    },
    "id": "7rZnJaGTWQw0"
   },
   "outputs": [],
   "source": [
    "from __future__ import absolute_import, division, print_function, unicode_literals\n",
    "try:\n",
    "  # %tensorflow_version only exists in Colab.\n",
    "  %tensorflow_version 2.x\n",
    "except Exception:\n",
    "  pass\n",
    "import tensorflow as tf\n",
    "\n",
    "import matplotlib as mpl\n",
    "import matplotlib.pyplot as plt\n",
    "import numpy as np\n",
    "import os\n",
    "import pandas as pd\n",
    "from tensorflow.keras.callbacks import EarlyStopping\n",
    "\n",
    "mpl.rcParams['figure.figsize'] = (8, 6)\n",
    "mpl.rcParams['axes.grid'] = False"
   ]
  },
  {
   "cell_type": "code",
   "execution_count": 6,
   "metadata": {
    "colab": {},
    "colab_type": "code",
    "executionInfo": {
     "elapsed": 3022,
     "status": "ok",
     "timestamp": 1592941599772,
     "user": {
      "displayName": "Renato Tateiwa Suguiy",
      "photoUrl": "https://lh3.googleusercontent.com/a-/AOh14GgAOxrgKmMPt_o03rG41NrymipL5mFKRBjqvraS=s64",
      "userId": "12331134297691695995"
     },
     "user_tz": 180
    },
    "id": "TX6uGeeeWIkG"
   },
   "outputs": [],
   "source": [
    "#Carrega base da dados direto do Driver e nomeia as colunas\n",
    "csv_path='/content/drive/My Drive/Pós Ciencia de Dados/Deep Learning/TRABALHO DEEP LEARNING/Trabalho2/Base de Ações Trabalho.xlsx' \n",
    "df = pd.read_excel(csv_path, header= 1, names=['dataIBOV', 'valorIBOV','nulo1','dataPetro4', 'valorPetro4','nulo2','dataVale3', 'valorVale3', 'nulo3','dataDolar', 'valorDolar'])"
   ]
  },
  {
   "cell_type": "markdown",
   "metadata": {
    "colab_type": "text",
    "id": "VdbOWXiTWM2T"
   },
   "source": [
    "Visualização dos Dados"
   ]
  },
  {
   "cell_type": "code",
   "execution_count": 8,
   "metadata": {
    "colab": {
     "base_uri": "https://localhost:8080/",
     "height": 421
    },
    "colab_type": "code",
    "executionInfo": {
     "elapsed": 2984,
     "status": "ok",
     "timestamp": 1592941599775,
     "user": {
      "displayName": "Renato Tateiwa Suguiy",
      "photoUrl": "https://lh3.googleusercontent.com/a-/AOh14GgAOxrgKmMPt_o03rG41NrymipL5mFKRBjqvraS=s64",
      "userId": "12331134297691695995"
     },
     "user_tz": 180
    },
    "id": "ojHE-iCCWIhz",
    "outputId": "805622a9-d1e3-4bc8-ab59-b24c7f8cb0f8"
   },
   "outputs": [
    {
     "data": {
      "text/html": [
       "<div>\n",
       "<style scoped>\n",
       "    .dataframe tbody tr th:only-of-type {\n",
       "        vertical-align: middle;\n",
       "    }\n",
       "\n",
       "    .dataframe tbody tr th {\n",
       "        vertical-align: top;\n",
       "    }\n",
       "\n",
       "    .dataframe thead th {\n",
       "        text-align: right;\n",
       "    }\n",
       "</style>\n",
       "<table border=\"1\" class=\"dataframe\">\n",
       "  <thead>\n",
       "    <tr style=\"text-align: right;\">\n",
       "      <th></th>\n",
       "      <th>dataIBOV</th>\n",
       "      <th>valorIBOV</th>\n",
       "      <th>nulo1</th>\n",
       "      <th>dataPetro4</th>\n",
       "      <th>valorPetro4</th>\n",
       "      <th>nulo2</th>\n",
       "      <th>dataVale3</th>\n",
       "      <th>valorVale3</th>\n",
       "      <th>nulo3</th>\n",
       "      <th>dataDolar</th>\n",
       "      <th>valorDolar</th>\n",
       "    </tr>\n",
       "  </thead>\n",
       "  <tbody>\n",
       "    <tr>\n",
       "      <th>0</th>\n",
       "      <td>2017-07-26 16:56:00.384</td>\n",
       "      <td>65010.57</td>\n",
       "      <td>NaN</td>\n",
       "      <td>2017-07-26 16:56:00.384</td>\n",
       "      <td>13.06</td>\n",
       "      <td>NaN</td>\n",
       "      <td>2017-07-26 16:56:00.384</td>\n",
       "      <td>29.66</td>\n",
       "      <td>NaN</td>\n",
       "      <td>2017-07-26 23:57:59.904</td>\n",
       "      <td>3.1375</td>\n",
       "    </tr>\n",
       "    <tr>\n",
       "      <th>1</th>\n",
       "      <td>2017-07-27 16:56:00.384</td>\n",
       "      <td>65277.38</td>\n",
       "      <td>NaN</td>\n",
       "      <td>2017-07-27 16:56:00.384</td>\n",
       "      <td>13.00</td>\n",
       "      <td>NaN</td>\n",
       "      <td>2017-07-27 16:56:00.384</td>\n",
       "      <td>29.70</td>\n",
       "      <td>NaN</td>\n",
       "      <td>2017-07-27 23:57:59.904</td>\n",
       "      <td>3.1526</td>\n",
       "    </tr>\n",
       "    <tr>\n",
       "      <th>2</th>\n",
       "      <td>2017-07-28 16:56:00.384</td>\n",
       "      <td>65497.13</td>\n",
       "      <td>NaN</td>\n",
       "      <td>2017-07-28 16:56:00.384</td>\n",
       "      <td>13.13</td>\n",
       "      <td>NaN</td>\n",
       "      <td>2017-07-28 16:56:00.384</td>\n",
       "      <td>30.34</td>\n",
       "      <td>NaN</td>\n",
       "      <td>2017-07-28 23:57:59.904</td>\n",
       "      <td>3.1269</td>\n",
       "    </tr>\n",
       "    <tr>\n",
       "      <th>3</th>\n",
       "      <td>2017-07-31 16:56:00.384</td>\n",
       "      <td>65920.36</td>\n",
       "      <td>NaN</td>\n",
       "      <td>2017-07-31 16:56:00.384</td>\n",
       "      <td>13.29</td>\n",
       "      <td>NaN</td>\n",
       "      <td>2017-07-31 16:56:00.384</td>\n",
       "      <td>31.30</td>\n",
       "      <td>NaN</td>\n",
       "      <td>2017-07-29 23:57:59.904</td>\n",
       "      <td>3.1311</td>\n",
       "    </tr>\n",
       "    <tr>\n",
       "      <th>4</th>\n",
       "      <td>2017-08-01 16:56:00.384</td>\n",
       "      <td>66516.24</td>\n",
       "      <td>NaN</td>\n",
       "      <td>2017-08-01 16:56:00.384</td>\n",
       "      <td>13.12</td>\n",
       "      <td>NaN</td>\n",
       "      <td>2017-08-01 16:56:00.384</td>\n",
       "      <td>31.06</td>\n",
       "      <td>NaN</td>\n",
       "      <td>2017-07-30 23:57:59.904</td>\n",
       "      <td>3.1777</td>\n",
       "    </tr>\n",
       "    <tr>\n",
       "      <th>5</th>\n",
       "      <td>2017-08-02 16:56:00.384</td>\n",
       "      <td>67135.99</td>\n",
       "      <td>NaN</td>\n",
       "      <td>2017-08-02 16:56:00.384</td>\n",
       "      <td>13.51</td>\n",
       "      <td>NaN</td>\n",
       "      <td>2017-08-02 16:56:00.384</td>\n",
       "      <td>31.11</td>\n",
       "      <td>NaN</td>\n",
       "      <td>2017-07-31 23:57:59.904</td>\n",
       "      <td>3.1258</td>\n",
       "    </tr>\n",
       "    <tr>\n",
       "      <th>6</th>\n",
       "      <td>2017-08-03 16:56:00.384</td>\n",
       "      <td>66777.13</td>\n",
       "      <td>NaN</td>\n",
       "      <td>2017-08-03 16:56:00.384</td>\n",
       "      <td>13.31</td>\n",
       "      <td>NaN</td>\n",
       "      <td>2017-08-03 16:56:00.384</td>\n",
       "      <td>30.68</td>\n",
       "      <td>NaN</td>\n",
       "      <td>2017-08-01 23:57:59.904</td>\n",
       "      <td>3.1228</td>\n",
       "    </tr>\n",
       "    <tr>\n",
       "      <th>7</th>\n",
       "      <td>2017-08-04 16:56:00.384</td>\n",
       "      <td>66897.99</td>\n",
       "      <td>NaN</td>\n",
       "      <td>2017-08-04 16:56:00.384</td>\n",
       "      <td>13.40</td>\n",
       "      <td>NaN</td>\n",
       "      <td>2017-08-04 16:56:00.384</td>\n",
       "      <td>31.23</td>\n",
       "      <td>NaN</td>\n",
       "      <td>2017-08-02 23:57:59.904</td>\n",
       "      <td>3.1122</td>\n",
       "    </tr>\n",
       "    <tr>\n",
       "      <th>8</th>\n",
       "      <td>2017-08-07 16:56:00.384</td>\n",
       "      <td>67939.66</td>\n",
       "      <td>NaN</td>\n",
       "      <td>2017-08-07 16:56:00.384</td>\n",
       "      <td>13.55</td>\n",
       "      <td>NaN</td>\n",
       "      <td>2017-08-07 16:56:00.384</td>\n",
       "      <td>32.42</td>\n",
       "      <td>NaN</td>\n",
       "      <td>2017-08-03 23:57:59.904</td>\n",
       "      <td>3.1115</td>\n",
       "    </tr>\n",
       "    <tr>\n",
       "      <th>9</th>\n",
       "      <td>2017-08-08 16:56:00.384</td>\n",
       "      <td>67898.94</td>\n",
       "      <td>NaN</td>\n",
       "      <td>2017-08-08 16:56:00.384</td>\n",
       "      <td>13.49</td>\n",
       "      <td>NaN</td>\n",
       "      <td>2017-08-08 16:56:00.384</td>\n",
       "      <td>32.05</td>\n",
       "      <td>NaN</td>\n",
       "      <td>2017-08-04 23:57:59.904</td>\n",
       "      <td>3.1175</td>\n",
       "    </tr>\n",
       "    <tr>\n",
       "      <th>10</th>\n",
       "      <td>2017-08-09 16:56:00.384</td>\n",
       "      <td>67671.07</td>\n",
       "      <td>NaN</td>\n",
       "      <td>2017-08-09 16:56:00.384</td>\n",
       "      <td>13.52</td>\n",
       "      <td>NaN</td>\n",
       "      <td>2017-08-09 16:56:00.384</td>\n",
       "      <td>31.92</td>\n",
       "      <td>NaN</td>\n",
       "      <td>2017-08-06 23:57:59.904</td>\n",
       "      <td>3.1293</td>\n",
       "    </tr>\n",
       "    <tr>\n",
       "      <th>11</th>\n",
       "      <td>2017-08-10 16:56:00.384</td>\n",
       "      <td>66992.09</td>\n",
       "      <td>NaN</td>\n",
       "      <td>2017-08-10 16:56:00.384</td>\n",
       "      <td>13.19</td>\n",
       "      <td>NaN</td>\n",
       "      <td>2017-08-10 16:56:00.384</td>\n",
       "      <td>31.50</td>\n",
       "      <td>NaN</td>\n",
       "      <td>2017-08-07 23:57:59.904</td>\n",
       "      <td>3.1242</td>\n",
       "    </tr>\n",
       "  </tbody>\n",
       "</table>\n",
       "</div>"
      ],
      "text/plain": [
       "                  dataIBOV  valorIBOV  ...               dataDolar valorDolar\n",
       "0  2017-07-26 16:56:00.384   65010.57  ... 2017-07-26 23:57:59.904     3.1375\n",
       "1  2017-07-27 16:56:00.384   65277.38  ... 2017-07-27 23:57:59.904     3.1526\n",
       "2  2017-07-28 16:56:00.384   65497.13  ... 2017-07-28 23:57:59.904     3.1269\n",
       "3  2017-07-31 16:56:00.384   65920.36  ... 2017-07-29 23:57:59.904     3.1311\n",
       "4  2017-08-01 16:56:00.384   66516.24  ... 2017-07-30 23:57:59.904     3.1777\n",
       "5  2017-08-02 16:56:00.384   67135.99  ... 2017-07-31 23:57:59.904     3.1258\n",
       "6  2017-08-03 16:56:00.384   66777.13  ... 2017-08-01 23:57:59.904     3.1228\n",
       "7  2017-08-04 16:56:00.384   66897.99  ... 2017-08-02 23:57:59.904     3.1122\n",
       "8  2017-08-07 16:56:00.384   67939.66  ... 2017-08-03 23:57:59.904     3.1115\n",
       "9  2017-08-08 16:56:00.384   67898.94  ... 2017-08-04 23:57:59.904     3.1175\n",
       "10 2017-08-09 16:56:00.384   67671.07  ... 2017-08-06 23:57:59.904     3.1293\n",
       "11 2017-08-10 16:56:00.384   66992.09  ... 2017-08-07 23:57:59.904     3.1242\n",
       "\n",
       "[12 rows x 11 columns]"
      ]
     },
     "execution_count": 8,
     "metadata": {
      "tags": []
     },
     "output_type": "execute_result"
    }
   ],
   "source": [
    "df.head(12)"
   ]
  },
  {
   "cell_type": "markdown",
   "metadata": {
    "colab_type": "text",
    "id": "qoFJZmXBaxCc"
   },
   "source": [
    "As variáveis abaixo garantem padronização e reprodutibilidade"
   ]
  },
  {
   "cell_type": "code",
   "execution_count": 9,
   "metadata": {
    "colab": {},
    "colab_type": "code",
    "executionInfo": {
     "elapsed": 2966,
     "status": "ok",
     "timestamp": 1592941599777,
     "user": {
      "displayName": "Renato Tateiwa Suguiy",
      "photoUrl": "https://lh3.googleusercontent.com/a-/AOh14GgAOxrgKmMPt_o03rG41NrymipL5mFKRBjqvraS=s64",
      "userId": "12331134297691695995"
     },
     "user_tz": 180
    },
    "id": "ia-MPAHxbInX"
   },
   "outputs": [],
   "source": [
    "TRAIN_SPLIT = 480"
   ]
  },
  {
   "cell_type": "code",
   "execution_count": 10,
   "metadata": {
    "colab": {},
    "colab_type": "code",
    "executionInfo": {
     "elapsed": 2949,
     "status": "ok",
     "timestamp": 1592941599778,
     "user": {
      "displayName": "Renato Tateiwa Suguiy",
      "photoUrl": "https://lh3.googleusercontent.com/a-/AOh14GgAOxrgKmMPt_o03rG41NrymipL5mFKRBjqvraS=s64",
      "userId": "12331134297691695995"
     },
     "user_tz": 180
    },
    "id": "-x-GgENynHdx"
   },
   "outputs": [],
   "source": [
    "tf.random.set_seed(13)"
   ]
  },
  {
   "cell_type": "markdown",
   "metadata": {
    "colab_type": "text",
    "id": "8YEwr-NoWUpV"
   },
   "source": [
    "## Part 1: Previsão univalorada\n",
    "Criando modelo utilizando apenas uma *feature* (ação). \n"
   ]
  },
  {
   "cell_type": "code",
   "execution_count": 11,
   "metadata": {
    "colab": {
     "base_uri": "https://localhost:8080/",
     "height": 1000
    },
    "colab_type": "code",
    "executionInfo": {
     "elapsed": 2932,
     "status": "ok",
     "timestamp": 1592941599778,
     "user": {
      "displayName": "Renato Tateiwa Suguiy",
      "photoUrl": "https://lh3.googleusercontent.com/a-/AOh14GgAOxrgKmMPt_o03rG41NrymipL5mFKRBjqvraS=s64",
      "userId": "12331134297691695995"
     },
     "user_tz": 180
    },
    "id": "nbdcnm1_WIY9",
    "outputId": "3d6f441f-cda7-4be9-f494-655ada9ee4e7"
   },
   "outputs": [
    {
     "name": "stdout",
     "output_type": "stream",
     "text": [
      "Numero de Amostras:  673\n",
      "Vetor de valores: [13.06 13.   13.13 13.29 13.12 13.51 13.31 13.4  13.55 13.49 13.52 13.19\n",
      " 12.95 13.08 13.15 13.13 13.05 13.6  13.34 13.79 13.76 13.8  13.88 13.87\n",
      " 13.85 13.45 13.65 14.02 14.17 14.41 15.02 14.71 14.99 14.87 15.03 15.04\n",
      " 15.04 15.04 15.14 15.87 15.67 15.69 15.84 15.56 15.31 15.34 15.3  15.4\n",
      " 15.98 15.66 15.9  15.69 15.89 16.19 16.08 16.08 16.12 16.13 16.16 16.15\n",
      " 16.22 16.51 16.72 16.73 17.03 16.78 16.77 16.9  16.94 17.43 16.5  16.95\n",
      " 16.72 16.72 16.64 15.35 15.81 16.02 15.9  16.11 16.19 16.1  15.87 15.84\n",
      " 15.33 15.38 15.61 15.48 15.31 15.52 15.26 15.35 15.38 15.49 15.18 15.01\n",
      " 14.95 15.22 15.14 15.24 15.86 15.75 15.97 16.05 16.1  16.55 16.7  16.73\n",
      " 16.83 17.03 17.03 16.8  17.25 17.3  17.35 17.65 18.36 18.22 18.26 18.47\n",
      " 18.24 19.34 19.93 19.85 19.49 19.7  20.52 19.97 19.04 19.99 19.44 19.05\n",
      " 18.77 19.25 19.4  19.42 20.05 20.44 20.25 20.74 21.12 21.52 21.5  21.46\n",
      " 21.03 21.51 22.12 21.9  21.67 21.7  22.39 22.33 22.11 22.38 21.31 21.43\n",
      " 20.93 21.16 22.05 21.72 21.75 22.03 21.44 21.2  21.41 20.9  20.71 20.38\n",
      " 21.15 21.28 20.53 21.4  21.8  21.68 21.2  20.62 21.03 21.8  22.2  22.36\n",
      " 22.48 22.4  21.73 22.63 22.71 22.97 22.6  22.45 22.27 22.65 22.91 24.78\n",
      " 25.75 25.44 26.24 26.79 27.39 25.95 25.65 25.05 24.71 23.27 20.08 19.8\n",
      " 16.91 19.3  18.98 16.16 17.53 16.59 16.33 15.76 15.25 15.41 15.46 15.17\n",
      " 15.1  14.97 14.5  15.42 16.21 15.1  15.11 15.7  16.04 16.55 16.6  17.19\n",
      " 17.47 17.5  17.61 17.86 17.94 17.75 17.41 17.95 18.11 17.88 18.29 18.05\n",
      " 18.4  19.29 19.26 19.66 19.96 19.41 19.77 19.89 19.72 20.01 20.41 21.11\n",
      " 21.04 20.71 20.14 20.34 19.59 20.04 19.98 19.05 18.95 18.46 18.36 17.72\n",
      " 18.35 17.95 18.3  18.71 18.35 19.3  18.8  19.26 19.   18.65 18.75 18.99\n",
      " 19.26 18.5  18.95 18.71 18.79 19.4  20.25 19.98 19.87 20.14 20.   20.08\n",
      " 20.19 21.46 21.09 21.   22.82 23.79 24.02 23.96 26.6  26.82 26.05 25.29\n",
      " 25.77 26.73 26.45 25.7  25.92 26.53 26.2  25.68 26.32 27.6  26.42 28.\n",
      " 27.62 27.32 28.16 27.19 26.3  25.35 25.46 25.33 24.24 25.1  25.8  26.\n",
      " 25.17 25.15 24.37 24.25 25.53 25.38 25.17 25.46 25.94 25.34 25.56 24.59\n",
      " 24.77 23.44 23.29 23.3  23.36 23.05 22.87 22.   22.25 21.49 21.55 21.68\n",
      " 21.67 22.68 24.06 24.65 24.72 25.11 24.96 25.48 25.26 24.99 24.85 24.83\n",
      " 24.82 25.16 25.4  25.53 25.13 25.43 25.54 24.77 25.37 25.62 25.58 25.8\n",
      " 26.03 26.08 25.49 25.09 25.13 24.84 25.72 26.05 26.95 26.84 26.76 27.38\n",
      " 27.04 27.4  27.13 26.7  26.58 27.08 27.06 26.7  26.76 26.77 26.67 27.75\n",
      " 27.5  28.1  28.19 28.25 28.74 29.2  28.97 28.56 27.   27.34 28.63 27.34\n",
      " 28.06 28.06 28.   28.29 27.54 28.47 28.78 29.25 29.16 28.78 28.   25.83\n",
      " 25.93 26.72 26.75 27.6  27.44 27.68 27.6  27.8  27.25 27.37 27.11 26.73\n",
      " 26.85 26.77 26.35 27.37 26.83 26.68 25.9  26.   25.88 25.27 24.68 25.52\n",
      " 26.49 26.29 25.84 26.09 26.24 26.8  26.5  26.15 25.55 25.99 26.2  25.86\n",
      " 26.28 26.76 26.65 27.16 26.85 27.18 27.06 27.11 27.45 27.52 28.28 28.25\n",
      " 27.51 27.67 27.23 27.41 27.26 26.82 27.13 27.39 27.4  27.65 28.07 28.4\n",
      " 28.53 28.18 27.83 27.68 27.51 27.44 27.49 27.52 27.35 26.89 26.14 26.38\n",
      " 26.24 26.08 26.25 26.52 25.55 25.88 25.6  26.35 26.28 25.65 25.79 24.92\n",
      " 24.23 23.91 24.03 24.02 25.45 25.22 24.28 23.96 24.34 24.59 25.5  25.5\n",
      " 25.3  25.6  26.26 26.39 26.52 26.93 27.1  26.87 27.06 26.88 28.06 27.69\n",
      " 27.22 27.29 27.   27.48 27.27 27.34 27.7  27.66 27.55 27.51 26.72 26.74\n",
      " 26.51 26.17 26.02 26.52 26.74 27.26 27.31 27.6  27.93 27.66 27.6  27.77\n",
      " 28.57 28.95 28.32 29.25 29.6  29.82 30.08 30.39 30.43 30.36 29.65 29.71\n",
      " 30.9  30.02 30.45 30.02 29.9  29.3  29.08 28.78 29.85 29.98 29.73 29.19\n",
      " 29.33 29.53 29.15 29.07 28.98 29.66 30.05 30.35 30.21 30.44 30.4  30.97\n",
      " 29.98 29.41 29.85 30.54 30.61 30.26 30.5  30.91 30.52 30.18 30.7  30.45\n",
      " 30.81 30.69 30.5  30.4  30.27 30.33 30.   29.55 29.52 29.85 30.   29.62\n",
      " 29.29 29.65 29.3  28.03 28.8  28.85 28.94 28.45 28.18 28.63 28.39 29.18\n",
      " 28.93 29.13 29.48 30.13 29.72 29.42 29.36 29.75 30.55 29.92 29.14 26.21\n",
      " 25.3  25.34 26.53 26.05 26.89 25.29 22.83 16.05 17.56 15.85 12.6  15.4\n",
      " 13.09 13.   11.29 12.21 12.   11.5  13.25 14.32 14.39 13.3  13.38 13.99\n",
      " 14.3  15.51 15.34 15.77 16.4  17.32 16.82 16.93 16.73 16.38 15.72 16.13\n",
      " 15.95]\n"
     ]
    },
    {
     "data": {
      "text/plain": [
       "dataPetro4\n",
       "2017-07-26 16:56:00.384    13.06\n",
       "2017-07-27 16:56:00.384    13.00\n",
       "2017-07-28 16:56:00.384    13.13\n",
       "2017-07-31 16:56:00.384    13.29\n",
       "2017-08-01 16:56:00.384    13.12\n",
       "Name: valorPetro4, dtype: float64"
      ]
     },
     "execution_count": 11,
     "metadata": {
      "tags": []
     },
     "output_type": "execute_result"
    }
   ],
   "source": [
    "data = df['valorPetro4']\n",
    "\n",
    "data.index = df['dataPetro4']\n",
    "data = data.dropna() #Tira valores nulos\n",
    "\n",
    "print (\"Numero de Amostras: \", len(data))\n",
    "print (\"Vetor de valores:\" , data.values)\n",
    "data.head()\n"
   ]
  },
  {
   "cell_type": "markdown",
   "metadata": {
    "colab_type": "text",
    "id": "aQB-46MyWZMm"
   },
   "source": [
    "Abaixo plotamos o gráfico de variação da ação até  2020"
   ]
  },
  {
   "cell_type": "code",
   "execution_count": 12,
   "metadata": {
    "colab": {
     "base_uri": "https://localhost:8080/",
     "height": 409
    },
    "colab_type": "code",
    "executionInfo": {
     "elapsed": 3667,
     "status": "ok",
     "timestamp": 1592941600530,
     "user": {
      "displayName": "Renato Tateiwa Suguiy",
      "photoUrl": "https://lh3.googleusercontent.com/a-/AOh14GgAOxrgKmMPt_o03rG41NrymipL5mFKRBjqvraS=s64",
      "userId": "12331134297691695995"
     },
     "user_tz": 180
    },
    "id": "ftOExwAqWXSU",
    "outputId": "c5bb0eb0-20a7-4b9b-aa5c-ac9677115a5c"
   },
   "outputs": [
    {
     "data": {
      "text/plain": [
       "array([<matplotlib.axes._subplots.AxesSubplot object at 0x7fe7d7bbda90>],\n",
       "      dtype=object)"
      ]
     },
     "execution_count": 12,
     "metadata": {
      "tags": []
     },
     "output_type": "execute_result"
    },
    {
     "data": {
      "image/png": "[encoded data removed]",
      "text/plain": [
       "<Figure size 576x432 with 1 Axes>"
      ]
     },
     "metadata": {
      "needs_background": "light",
      "tags": []
     },
     "output_type": "display_data"
    }
   ],
   "source": [
    "data.plot(subplots=True, color='gray')"
   ]
  },
  {
   "cell_type": "markdown",
   "metadata": {
    "colab_type": "text",
    "id": "dQSbi-PiA9U4"
   },
   "source": [
    "Recuperando apenas o valores tabela e normalizando os dados\n",
    "* Importante (Apenas utilizando os dados de treinamento)\n",
    "\n"
   ]
  },
  {
   "cell_type": "code",
   "execution_count": 13,
   "metadata": {
    "colab": {
     "base_uri": "https://localhost:8080/",
     "height": 1000
    },
    "colab_type": "code",
    "executionInfo": {
     "elapsed": 3637,
     "status": "ok",
     "timestamp": 1592941600533,
     "user": {
      "displayName": "Renato Tateiwa Suguiy",
      "photoUrl": "https://lh3.googleusercontent.com/a-/AOh14GgAOxrgKmMPt_o03rG41NrymipL5mFKRBjqvraS=s64",
      "userId": "12331134297691695995"
     },
     "user_tz": 180
    },
    "id": "ejSEiDqBWXQa",
    "outputId": "da7744b8-d0ad-43c2-c9b8-b958124ff57e"
   },
   "outputs": [
    {
     "name": "stdout",
     "output_type": "stream",
     "text": [
      "Dados:  [13.06 13.   13.13 13.29 13.12 13.51 13.31 13.4  13.55 13.49 13.52 13.19\n",
      " 12.95 13.08 13.15 13.13 13.05 13.6  13.34 13.79 13.76 13.8  13.88 13.87\n",
      " 13.85 13.45 13.65 14.02 14.17 14.41 15.02 14.71 14.99 14.87 15.03 15.04\n",
      " 15.04 15.04 15.14 15.87 15.67 15.69 15.84 15.56 15.31 15.34 15.3  15.4\n",
      " 15.98 15.66 15.9  15.69 15.89 16.19 16.08 16.08 16.12 16.13 16.16 16.15\n",
      " 16.22 16.51 16.72 16.73 17.03 16.78 16.77 16.9  16.94 17.43 16.5  16.95\n",
      " 16.72 16.72 16.64 15.35 15.81 16.02 15.9  16.11 16.19 16.1  15.87 15.84\n",
      " 15.33 15.38 15.61 15.48 15.31 15.52 15.26 15.35 15.38 15.49 15.18 15.01\n",
      " 14.95 15.22 15.14 15.24 15.86 15.75 15.97 16.05 16.1  16.55 16.7  16.73\n",
      " 16.83 17.03 17.03 16.8  17.25 17.3  17.35 17.65 18.36 18.22 18.26 18.47\n",
      " 18.24 19.34 19.93 19.85 19.49 19.7  20.52 19.97 19.04 19.99 19.44 19.05\n",
      " 18.77 19.25 19.4  19.42 20.05 20.44 20.25 20.74 21.12 21.52 21.5  21.46\n",
      " 21.03 21.51 22.12 21.9  21.67 21.7  22.39 22.33 22.11 22.38 21.31 21.43\n",
      " 20.93 21.16 22.05 21.72 21.75 22.03 21.44 21.2  21.41 20.9  20.71 20.38\n",
      " 21.15 21.28 20.53 21.4  21.8  21.68 21.2  20.62 21.03 21.8  22.2  22.36\n",
      " 22.48 22.4  21.73 22.63 22.71 22.97 22.6  22.45 22.27 22.65 22.91 24.78\n",
      " 25.75 25.44 26.24 26.79 27.39 25.95 25.65 25.05 24.71 23.27 20.08 19.8\n",
      " 16.91 19.3  18.98 16.16 17.53 16.59 16.33 15.76 15.25 15.41 15.46 15.17\n",
      " 15.1  14.97 14.5  15.42 16.21 15.1  15.11 15.7  16.04 16.55 16.6  17.19\n",
      " 17.47 17.5  17.61 17.86 17.94 17.75 17.41 17.95 18.11 17.88 18.29 18.05\n",
      " 18.4  19.29 19.26 19.66 19.96 19.41 19.77 19.89 19.72 20.01 20.41 21.11\n",
      " 21.04 20.71 20.14 20.34 19.59 20.04 19.98 19.05 18.95 18.46 18.36 17.72\n",
      " 18.35 17.95 18.3  18.71 18.35 19.3  18.8  19.26 19.   18.65 18.75 18.99\n",
      " 19.26 18.5  18.95 18.71 18.79 19.4  20.25 19.98 19.87 20.14 20.   20.08\n",
      " 20.19 21.46 21.09 21.   22.82 23.79 24.02 23.96 26.6  26.82 26.05 25.29\n",
      " 25.77 26.73 26.45 25.7  25.92 26.53 26.2  25.68 26.32 27.6  26.42 28.\n",
      " 27.62 27.32 28.16 27.19 26.3  25.35 25.46 25.33 24.24 25.1  25.8  26.\n",
      " 25.17 25.15 24.37 24.25 25.53 25.38 25.17 25.46 25.94 25.34 25.56 24.59\n",
      " 24.77 23.44 23.29 23.3  23.36 23.05 22.87 22.   22.25 21.49 21.55 21.68\n",
      " 21.67 22.68 24.06 24.65 24.72 25.11 24.96 25.48 25.26 24.99 24.85 24.83\n",
      " 24.82 25.16 25.4  25.53 25.13 25.43 25.54 24.77 25.37 25.62 25.58 25.8\n",
      " 26.03 26.08 25.49 25.09 25.13 24.84 25.72 26.05 26.95 26.84 26.76 27.38\n",
      " 27.04 27.4  27.13 26.7  26.58 27.08 27.06 26.7  26.76 26.77 26.67 27.75\n",
      " 27.5  28.1  28.19 28.25 28.74 29.2  28.97 28.56 27.   27.34 28.63 27.34\n",
      " 28.06 28.06 28.   28.29 27.54 28.47 28.78 29.25 29.16 28.78 28.   25.83\n",
      " 25.93 26.72 26.75 27.6  27.44 27.68 27.6  27.8  27.25 27.37 27.11 26.73\n",
      " 26.85 26.77 26.35 27.37 26.83 26.68 25.9  26.   25.88 25.27 24.68 25.52\n",
      " 26.49 26.29 25.84 26.09 26.24 26.8  26.5  26.15 25.55 25.99 26.2  25.86\n",
      " 26.28 26.76 26.65 27.16 26.85 27.18 27.06 27.11 27.45 27.52 28.28 28.25\n",
      " 27.51 27.67 27.23 27.41 27.26 26.82 27.13 27.39 27.4  27.65 28.07 28.4\n",
      " 28.53 28.18 27.83 27.68 27.51 27.44 27.49 27.52 27.35 26.89 26.14 26.38\n",
      " 26.24 26.08 26.25 26.52 25.55 25.88 25.6  26.35 26.28 25.65 25.79 24.92\n",
      " 24.23 23.91 24.03 24.02 25.45 25.22 24.28 23.96 24.34 24.59 25.5  25.5\n",
      " 25.3  25.6  26.26 26.39 26.52 26.93 27.1  26.87 27.06 26.88 28.06 27.69\n",
      " 27.22 27.29 27.   27.48 27.27 27.34 27.7  27.66 27.55 27.51 26.72 26.74\n",
      " 26.51 26.17 26.02 26.52 26.74 27.26 27.31 27.6  27.93 27.66 27.6  27.77\n",
      " 28.57 28.95 28.32 29.25 29.6  29.82 30.08 30.39 30.43 30.36 29.65 29.71\n",
      " 30.9  30.02 30.45 30.02 29.9  29.3  29.08 28.78 29.85 29.98 29.73 29.19\n",
      " 29.33 29.53 29.15 29.07 28.98 29.66 30.05 30.35 30.21 30.44 30.4  30.97\n",
      " 29.98 29.41 29.85 30.54 30.61 30.26 30.5  30.91 30.52 30.18 30.7  30.45\n",
      " 30.81 30.69 30.5  30.4  30.27 30.33 30.   29.55 29.52 29.85 30.   29.62\n",
      " 29.29 29.65 29.3  28.03 28.8  28.85 28.94 28.45 28.18 28.63 28.39 29.18\n",
      " 28.93 29.13 29.48 30.13 29.72 29.42 29.36 29.75 30.55 29.92 29.14 26.21\n",
      " 25.3  25.34 26.53 26.05 26.89 25.29 22.83 16.05 17.56 15.85 12.6  15.4\n",
      " 13.09 13.   11.29 12.21 12.   11.5  13.25 14.32 14.39 13.3  13.38 13.99\n",
      " 14.3  15.51 15.34 15.77 16.4  17.32 16.82 16.93 16.73 16.38 15.72 16.13\n",
      " 15.95]\n",
      "Média:  21.277270833333333\n",
      "Desv. Padrão:  4.715344924815431\n",
      "Dados Norm:  [-1.74266591e+00 -1.75539032e+00 -1.72782076e+00 -1.69388899e+00\n",
      " -1.72994149e+00 -1.64723280e+00 -1.68964751e+00 -1.67056089e+00\n",
      " -1.63874986e+00 -1.65147427e+00 -1.64511207e+00 -1.71509634e+00\n",
      " -1.76599400e+00 -1.73842443e+00 -1.72357928e+00 -1.72782076e+00\n",
      " -1.74478664e+00 -1.62814618e+00 -1.68328531e+00 -1.58785220e+00\n",
      " -1.59421441e+00 -1.58573147e+00 -1.56876558e+00 -1.57088632e+00\n",
      " -1.57512779e+00 -1.65995722e+00 -1.61754250e+00 -1.53907528e+00\n",
      " -1.50726425e+00 -1.45636660e+00 -1.32700172e+00 -1.39274453e+00\n",
      " -1.33336393e+00 -1.35881276e+00 -1.32488099e+00 -1.32276025e+00\n",
      " -1.32276025e+00 -1.32276025e+00 -1.30155289e+00 -1.14673919e+00\n",
      " -1.18915391e+00 -1.18491243e+00 -1.15310140e+00 -1.21248200e+00\n",
      " -1.26550039e+00 -1.25913818e+00 -1.26762112e+00 -1.24641377e+00\n",
      " -1.12341110e+00 -1.19127464e+00 -1.14037699e+00 -1.18491243e+00\n",
      " -1.14249772e+00 -1.07887565e+00 -1.10220374e+00 -1.10220374e+00\n",
      " -1.09372080e+00 -1.09160007e+00 -1.08523786e+00 -1.08735860e+00\n",
      " -1.07251345e+00 -1.01101211e+00 -9.66476664e-01 -9.64355929e-01\n",
      " -9.00733860e-01 -9.53752250e-01 -9.55872986e-01 -9.28303423e-01\n",
      " -9.19820480e-01 -8.15904434e-01 -1.01313285e+00 -9.17699745e-01\n",
      " -9.66476664e-01 -9.66476664e-01 -9.83442549e-01 -1.25701745e+00\n",
      " -1.15946361e+00 -1.11492816e+00 -1.14037699e+00 -1.09584154e+00\n",
      " -1.07887565e+00 -1.09796227e+00 -1.14673919e+00 -1.15310140e+00\n",
      " -1.26125892e+00 -1.25065524e+00 -1.20187832e+00 -1.22944788e+00\n",
      " -1.26550039e+00 -1.22096494e+00 -1.27610407e+00 -1.25701745e+00\n",
      " -1.25065524e+00 -1.22732715e+00 -1.29306995e+00 -1.32912246e+00\n",
      " -1.34184687e+00 -1.28458701e+00 -1.30155289e+00 -1.28034554e+00\n",
      " -1.14885993e+00 -1.17218802e+00 -1.12553184e+00 -1.10856595e+00\n",
      " -1.09796227e+00 -1.00252917e+00 -9.70718135e-01 -9.64355929e-01\n",
      " -9.43148572e-01 -9.00733860e-01 -9.00733860e-01 -9.49510779e-01\n",
      " -8.54077676e-01 -8.43473998e-01 -8.32870319e-01 -7.69248250e-01\n",
      " -6.18676020e-01 -6.48366319e-01 -6.39883377e-01 -5.95347929e-01\n",
      " -6.44124848e-01 -4.10843929e-01 -2.85720526e-01 -3.02686411e-01\n",
      " -3.79032894e-01 -3.34497446e-01 -1.60597124e-01 -2.77237584e-01\n",
      " -4.74465998e-01 -2.72996112e-01 -3.89636572e-01 -4.72345262e-01\n",
      " -5.31725860e-01 -4.29930549e-01 -3.98119515e-01 -3.93878043e-01\n",
      " -2.60271699e-01 -1.77563009e-01 -2.17856986e-01 -1.13940940e-01\n",
      " -3.33529860e-02  5.14764393e-02  4.72349680e-02  3.87520255e-02\n",
      " -5.24396067e-02  4.93557036e-02  1.78720577e-01  1.32064393e-01\n",
      "  8.32874738e-02  8.96496807e-02  2.35980439e-01  2.23256025e-01\n",
      "  1.76599842e-01  2.33859704e-01  6.94099100e-03  3.23898186e-02\n",
      " -7.36469630e-02 -2.48700435e-02  1.63875428e-01  9.38911519e-02\n",
      "  1.00253359e-01  1.59633957e-01  3.45105542e-02 -1.63871010e-02\n",
      "  2.81483473e-02 -8.00091699e-02 -1.20303147e-01 -1.90287423e-01\n",
      " -2.69907791e-02  5.78784100e-04 -1.58476388e-01  2.60276117e-02\n",
      "  1.10857037e-01  8.54082094e-02 -1.63871010e-02 -1.39389768e-01\n",
      " -5.24396067e-02  1.10857037e-01  1.95686462e-01  2.29618232e-01\n",
      "  2.55067060e-01  2.38101175e-01  9.60118875e-02  2.86878094e-01\n",
      "  3.03843979e-01  3.58983106e-01  2.80515888e-01  2.48704853e-01\n",
      "  2.10531612e-01  2.91119566e-01  3.46258692e-01  7.42836255e-01\n",
      "  9.48547612e-01  8.82804807e-01  1.05246366e+00  1.16910412e+00\n",
      "  1.29634826e+00  9.90962324e-01  9.27340255e-01  8.00096117e-01\n",
      "  7.27991106e-01  4.22605175e-01 -2.53909492e-01 -3.13290089e-01\n",
      " -9.26182687e-01 -4.19326871e-01 -4.87190411e-01 -1.08523786e+00\n",
      " -7.94697078e-01 -9.94046227e-01 -1.04918535e+00 -1.17006728e+00\n",
      " -1.27822480e+00 -1.24429303e+00 -1.23368935e+00 -1.29519069e+00\n",
      " -1.31003584e+00 -1.33760540e+00 -1.43727997e+00 -1.24217230e+00\n",
      " -1.07463418e+00 -1.31003584e+00 -1.30791510e+00 -1.18279170e+00\n",
      " -1.11068669e+00 -1.00252917e+00 -9.91925492e-01 -8.66802089e-01\n",
      " -8.07421492e-01 -8.01059285e-01 -7.77731193e-01 -7.24712802e-01\n",
      " -7.07746917e-01 -7.48040894e-01 -8.20145906e-01 -7.05626181e-01\n",
      " -6.71694411e-01 -7.20471331e-01 -6.33521170e-01 -6.84418825e-01\n",
      " -6.10193078e-01 -4.21447607e-01 -4.27809814e-01 -3.42980388e-01\n",
      " -2.79358319e-01 -3.95998779e-01 -3.19652296e-01 -2.94203469e-01\n",
      " -3.30255975e-01 -2.68754641e-01 -1.83925216e-01 -3.54737216e-02\n",
      " -5.03188711e-02 -1.20303147e-01 -2.41185078e-01 -1.98770365e-01\n",
      " -3.57825538e-01 -2.62392434e-01 -2.75116848e-01 -4.72345262e-01\n",
      " -4.93552618e-01 -5.97468664e-01 -6.18676020e-01 -7.54403101e-01\n",
      " -6.20796756e-01 -7.05626181e-01 -6.31400434e-01 -5.44450273e-01\n",
      " -6.20796756e-01 -4.19326871e-01 -5.25363653e-01 -4.27809814e-01\n",
      " -4.82948940e-01 -5.57174687e-01 -5.35967331e-01 -4.85069676e-01\n",
      " -4.27809814e-01 -5.88985722e-01 -4.93552618e-01 -5.44450273e-01\n",
      " -5.27484388e-01 -3.98119515e-01 -2.17856986e-01 -2.75116848e-01\n",
      " -2.98444940e-01 -2.41185078e-01 -2.70875377e-01 -2.53909492e-01\n",
      " -2.30581400e-01  3.87520255e-02 -3.97151929e-02 -5.88018136e-02\n",
      "  3.27172071e-01  5.32883428e-01  5.81660347e-01  5.68935934e-01\n",
      "  1.12881014e+00  1.17546632e+00  1.01216968e+00  8.50993773e-01\n",
      "  9.52789083e-01  1.15637970e+00  1.09699911e+00  9.37943934e-01\n",
      "  9.84600117e-01  1.11396499e+00  1.04398072e+00  9.33702462e-01\n",
      "  1.06942954e+00  1.34088370e+00  1.09063690e+00  1.42571313e+00\n",
      "  1.34512517e+00  1.28150311e+00  1.45964490e+00  1.25393354e+00\n",
      "  1.06518807e+00  8.63718186e-01  8.87046278e-01  8.59476715e-01\n",
      "  6.28316531e-01  8.10699796e-01  9.59151290e-01  1.00156600e+00\n",
      "  8.25544945e-01  8.21303474e-01  6.55886094e-01  6.30437267e-01\n",
      "  9.01891428e-01  8.70080393e-01  8.25544945e-01  8.87046278e-01\n",
      "  9.88841589e-01  8.61597451e-01  9.08253635e-01  7.02542278e-01\n",
      "  7.40715520e-01  4.58657681e-01  4.26846646e-01  4.28967382e-01\n",
      "  4.41691796e-01  3.75948991e-01  3.37775750e-01  1.53271750e-01\n",
      "  2.06290140e-01  4.51142324e-02  5.78386462e-02  8.54082094e-02\n",
      "  8.32874738e-02  2.97481773e-01  5.90143290e-01  7.15266692e-01\n",
      "  7.30111842e-01  8.12820531e-01  7.81009497e-01  8.91287750e-01\n",
      "  8.44631566e-01  7.87371704e-01  7.57681405e-01  7.53439934e-01\n",
      "  7.51319198e-01  8.23424209e-01  8.74321865e-01  9.01891428e-01\n",
      "  8.17062002e-01  8.80684071e-01  9.04012163e-01  7.40715520e-01\n",
      "  8.67959658e-01  9.20978048e-01  9.12495106e-01  9.59151290e-01\n",
      "  1.00792821e+00  1.01853189e+00  8.93408485e-01  8.08579060e-01\n",
      "  8.17062002e-01  7.55560669e-01  9.42185405e-01  1.01216968e+00\n",
      "  1.20303589e+00  1.17970780e+00  1.16274191e+00  1.29422752e+00\n",
      "  1.22212251e+00  1.29846899e+00  1.24120913e+00  1.15001750e+00\n",
      "  1.12456867e+00  1.23060545e+00  1.22636398e+00  1.15001750e+00\n",
      "  1.16274191e+00  1.16486265e+00  1.14365529e+00  1.37269474e+00\n",
      "  1.31967635e+00  1.44692049e+00  1.46600711e+00  1.47873152e+00\n",
      "  1.58264757e+00  1.68020140e+00  1.63142449e+00  1.54447432e+00\n",
      "  1.21363957e+00  1.28574458e+00  1.55931947e+00  1.28574458e+00\n",
      "  1.43843754e+00  1.43843754e+00  1.42571313e+00  1.48721446e+00\n",
      "  1.32815929e+00  1.52538770e+00  1.59113051e+00  1.69080508e+00\n",
      "  1.67171846e+00  1.59113051e+00  1.42571313e+00  9.65513497e-01\n",
      "  9.86720853e-01  1.15425897e+00  1.16062117e+00  1.34088370e+00\n",
      "  1.30695193e+00  1.35784959e+00  1.34088370e+00  1.38329842e+00\n",
      "  1.26665796e+00  1.29210678e+00  1.23696766e+00  1.15637970e+00\n",
      "  1.18182853e+00  1.16486265e+00  1.07579175e+00  1.29210678e+00\n",
      "  1.17758706e+00  1.14577603e+00  9.80358646e-01  1.00156600e+00\n",
      "  9.76117175e-01  8.46752301e-01  7.21628899e-01  8.99770692e-01\n",
      "  1.10548205e+00  1.06306734e+00  9.67634232e-01  1.02065262e+00\n",
      "  1.05246366e+00  1.17122485e+00  1.10760278e+00  1.03337704e+00\n",
      "  9.06132899e-01  9.99445267e-01  1.04398072e+00  9.71875704e-01\n",
      "  1.06094660e+00  1.16274191e+00  1.13941382e+00  1.24757134e+00\n",
      "  1.18182853e+00  1.25181281e+00  1.22636398e+00  1.23696766e+00\n",
      "  1.30907267e+00  1.32391782e+00  1.48509373e+00  1.47873152e+00\n",
      "  1.32179708e+00  1.35572885e+00  1.26241649e+00  1.30058973e+00\n",
      "  1.26877869e+00  1.17546632e+00  1.24120913e+00  1.29634826e+00\n",
      "  1.29846899e+00  1.35148738e+00  1.44055828e+00  1.51054255e+00\n",
      "  1.53811212e+00  1.46388637e+00  1.38966062e+00  1.35784959e+00\n",
      "  1.32179708e+00  1.30695193e+00  1.31755561e+00  1.32391782e+00\n",
      "  1.28786531e+00  1.19031147e+00  1.03125630e+00  1.08215396e+00\n",
      "  1.05246366e+00  1.01853189e+00  1.05458439e+00  1.11184426e+00\n",
      "  9.06132899e-01  9.76117175e-01  9.16736577e-01  1.07579175e+00\n",
      "  1.06094660e+00  9.27340255e-01  9.57030554e-01  7.72526554e-01\n",
      "  6.26195796e-01  5.58332255e-01  5.83781083e-01  5.81660347e-01\n",
      "  8.84925543e-01  8.36148623e-01  6.36799474e-01  5.68935934e-01\n",
      "  6.49523888e-01  7.02542278e-01  8.95529221e-01  8.95529221e-01\n",
      "  8.53114508e-01  9.16736577e-01  1.05670513e+00  1.08427469e+00\n",
      "  1.11184426e+00  1.19879442e+00  1.23484692e+00  1.18607000e+00\n",
      "  1.22636398e+00  1.18819074e+00  1.43843754e+00  1.35997032e+00\n",
      "  1.26029575e+00  1.27514090e+00  1.21363957e+00  1.31543488e+00\n",
      "  1.27089943e+00  1.28574458e+00  1.36209106e+00  1.35360812e+00\n",
      "  1.33028003e+00  1.32179708e+00  1.15425897e+00  1.15850044e+00\n",
      "  1.10972352e+00  1.03761851e+00  1.00580747e+00  1.11184426e+00\n",
      "  1.15850044e+00  1.26877869e+00  1.27938237e+00  1.34088370e+00\n",
      "  1.41086798e+00  1.35360812e+00  1.34088370e+00  1.37693621e+00\n",
      "  1.54659506e+00  1.62718301e+00  1.49357667e+00  1.69080508e+00\n",
      "  1.76503083e+00  1.81168701e+00  1.86682614e+00  1.93256895e+00\n",
      "  1.94105189e+00  1.92620674e+00  1.77563451e+00  1.78835892e+00\n",
      "  2.04072646e+00  1.85410173e+00  1.94529336e+00  1.85410173e+00\n",
      "  1.82865290e+00  1.70140876e+00  1.65475258e+00  1.59113051e+00\n",
      "  1.81804922e+00  1.84561878e+00  1.79260039e+00  1.67808067e+00\n",
      "  1.70777097e+00  1.75018568e+00  1.66959773e+00  1.65263184e+00\n",
      "  1.63354522e+00  1.77775524e+00  1.86046393e+00  1.92408600e+00\n",
      "  1.89439570e+00  1.94317262e+00  1.93468968e+00  2.05557161e+00\n",
      "  1.84561878e+00  1.72473685e+00  1.81804922e+00  1.96437998e+00\n",
      "  1.97922513e+00  1.90499938e+00  1.95589704e+00  2.04284720e+00\n",
      "  1.96013851e+00  1.88803350e+00  1.99831175e+00  1.94529336e+00\n",
      "  2.02163984e+00  1.99619101e+00  1.95589704e+00  1.93468968e+00\n",
      "  1.90712012e+00  1.91984453e+00  1.84986026e+00  1.75442715e+00\n",
      "  1.74806495e+00  1.81804922e+00  1.84986026e+00  1.76927230e+00\n",
      "  1.69928803e+00  1.77563451e+00  1.70140876e+00  1.43207534e+00\n",
      "  1.59537198e+00  1.60597566e+00  1.62506228e+00  1.52114623e+00\n",
      "  1.46388637e+00  1.55931947e+00  1.50842182e+00  1.67595993e+00\n",
      "  1.62294154e+00  1.66535626e+00  1.73958200e+00  1.87742982e+00\n",
      "  1.79047966e+00  1.72685759e+00  1.71413317e+00  1.79684186e+00\n",
      "  1.96650072e+00  1.83289437e+00  1.66747699e+00  1.04610145e+00\n",
      "  8.53114508e-01  8.61597451e-01  1.11396499e+00  1.01216968e+00\n",
      "  1.19031147e+00  8.50993773e-01  3.29292807e-01 -1.10856595e+00\n",
      " -7.88334871e-01 -1.15098066e+00 -1.84021974e+00 -1.24641377e+00\n",
      " -1.73630370e+00 -1.75539032e+00 -2.11803611e+00 -1.92292843e+00\n",
      " -1.96746388e+00 -2.07350066e+00 -1.70237193e+00 -1.47545322e+00\n",
      " -1.46060807e+00 -1.69176825e+00 -1.67480237e+00 -1.54543749e+00\n",
      " -1.47969469e+00 -1.22308568e+00 -1.25913818e+00 -1.16794655e+00\n",
      " -1.03434020e+00 -8.39232526e-01 -9.45269308e-01 -9.21941216e-01\n",
      " -9.64355929e-01 -1.03858168e+00 -1.17855023e+00 -1.09160007e+00\n",
      " -1.12977331e+00]\n"
     ]
    }
   ],
   "source": [
    "uni_data = data.values\n",
    "print (\"Dados: \", uni_data)\n",
    "uni_train_mean = uni_data[:TRAIN_SPLIT].mean()\n",
    "print (\"Média: \", uni_train_mean)\n",
    "uni_train_std = uni_data[:TRAIN_SPLIT].std()\n",
    "print (\"Desv. Padrão: \", uni_train_std)\n",
    "uni_data = (uni_data-uni_train_mean)/uni_train_std\n",
    "print (\"Dados Norm: \", uni_data)\n"
   ]
  },
  {
   "cell_type": "markdown",
   "metadata": {
    "colab_type": "text",
    "id": "gn8A_nrccKtn"
   },
   "source": [
    "**Criação dos Datasets de Treinamento e Validação**'"
   ]
  },
  {
   "cell_type": "markdown",
   "metadata": {
    "colab_type": "text",
    "id": "iz3qJ7VrSOCp"
   },
   "source": [
    "* A função abaixo retorna a fração do dataset a ser utilizada sendo:\n",
    "\n",
    "          * history_size: janela a ser observada\n",
    "          * target_size: O exato momento a ser avaliado \n"
   ]
  },
  {
   "cell_type": "code",
   "execution_count": 14,
   "metadata": {
    "colab": {},
    "colab_type": "code",
    "executionInfo": {
     "elapsed": 3605,
     "status": "ok",
     "timestamp": 1592941600534,
     "user": {
      "displayName": "Renato Tateiwa Suguiy",
      "photoUrl": "https://lh3.googleusercontent.com/a-/AOh14GgAOxrgKmMPt_o03rG41NrymipL5mFKRBjqvraS=s64",
      "userId": "12331134297691695995"
     },
     "user_tz": 180
    },
    "id": "VRamgBs1R2Os"
   },
   "outputs": [],
   "source": [
    "def univariate_data(dataset, start_index, end_index, history_size, target_size):\n",
    "  data = []\n",
    "  labels = []\n",
    "\n",
    "  start_index = start_index + history_size\n",
    "  if end_index is None:\n",
    "    end_index = len(dataset) - target_size\n",
    "\n",
    "  for i in range(start_index, end_index):\n",
    "    indices = range(i-history_size, i)\n",
    "    # Reshape data from (history_size,) to (history_size, 1)\n",
    "    data.append(np.reshape(dataset[indices], (history_size, 1)))\n",
    "    labels.append(dataset[i+target_size])\n",
    "  return np.array(data), np.array(labels)"
   ]
  },
  {
   "cell_type": "code",
   "execution_count": 15,
   "metadata": {
    "colab": {
     "base_uri": "https://localhost:8080/",
     "height": 850
    },
    "colab_type": "code",
    "executionInfo": {
     "elapsed": 3592,
     "status": "ok",
     "timestamp": 1592941600536,
     "user": {
      "displayName": "Renato Tateiwa Suguiy",
      "photoUrl": "https://lh3.googleusercontent.com/a-/AOh14GgAOxrgKmMPt_o03rG41NrymipL5mFKRBjqvraS=s64",
      "userId": "12331134297691695995"
     },
     "user_tz": 180
    },
    "id": "aJJ-T49vWXOZ",
    "outputId": "2482f6c5-c036-4472-965d-860b398747d7"
   },
   "outputs": [
    {
     "name": "stdout",
     "output_type": "stream",
     "text": [
      "[[[-1.74266591]\n",
      "  [-1.75539032]\n",
      "  [-1.72782076]\n",
      "  ...\n",
      "  [-1.53907528]\n",
      "  [-1.50726425]\n",
      "  [-1.4563666 ]]\n",
      "\n",
      " [[-1.75539032]\n",
      "  [-1.72782076]\n",
      "  [-1.69388899]\n",
      "  ...\n",
      "  [-1.50726425]\n",
      "  [-1.4563666 ]\n",
      "  [-1.32700172]]\n",
      "\n",
      " [[-1.72782076]\n",
      "  [-1.69388899]\n",
      "  [-1.72994149]\n",
      "  ...\n",
      "  [-1.4563666 ]\n",
      "  [-1.32700172]\n",
      "  [-1.39274453]]\n",
      "\n",
      " ...\n",
      "\n",
      " [[ 1.02065262]\n",
      "  [ 1.05246366]\n",
      "  [ 1.17122485]\n",
      "  ...\n",
      "  [ 1.24120913]\n",
      "  [ 1.29634826]\n",
      "  [ 1.29846899]]\n",
      "\n",
      " [[ 1.05246366]\n",
      "  [ 1.17122485]\n",
      "  [ 1.10760278]\n",
      "  ...\n",
      "  [ 1.29634826]\n",
      "  [ 1.29846899]\n",
      "  [ 1.35148738]]\n",
      "\n",
      " [[ 1.17122485]\n",
      "  [ 1.10760278]\n",
      "  [ 1.03337704]\n",
      "  ...\n",
      "  [ 1.29846899]\n",
      "  [ 1.35148738]\n",
      "  [ 1.44055828]]]\n"
     ]
    }
   ],
   "source": [
    "'''Tamanho da Janela do Historico'''\n",
    "univariate_past_history = 30  #n observacoes anteriores\n",
    "future = univariate_future_target = 18 #n proxima observação \n",
    "\n",
    "x_train_uni, y_train_uni = univariate_data(uni_data, 0, TRAIN_SPLIT,\n",
    "                                           univariate_past_history,\n",
    "                                           univariate_future_target)\n",
    "x_val_uni, y_val_uni = univariate_data(uni_data, TRAIN_SPLIT, None,\n",
    "                                       univariate_past_history,\n",
    "                                       univariate_future_target)\n",
    "print (x_train_uni)"
   ]
  },
  {
   "cell_type": "markdown",
   "metadata": {
    "colab_type": "text",
    "id": "hni3Jt9OMR1_"
   },
   "source": [
    "Para efeito de visualização, analisamos as janelas de observações criadas e seu respectivo preço (label)"
   ]
  },
  {
   "cell_type": "code",
   "execution_count": 16,
   "metadata": {
    "colab": {
     "base_uri": "https://localhost:8080/",
     "height": 982
    },
    "colab_type": "code",
    "executionInfo": {
     "elapsed": 3574,
     "status": "ok",
     "timestamp": 1592941600537,
     "user": {
      "displayName": "Renato Tateiwa Suguiy",
      "photoUrl": "https://lh3.googleusercontent.com/a-/AOh14GgAOxrgKmMPt_o03rG41NrymipL5mFKRBjqvraS=s64",
      "userId": "12331134297691695995"
     },
     "user_tz": 180
    },
    "id": "qVukM9dRipop",
    "outputId": "f5317b48-8db4-4074-fa58-f5b604bf0de9"
   },
   "outputs": [
    {
     "name": "stdout",
     "output_type": "stream",
     "text": [
      "#Amostras: 450 #Labels:  450\n",
      "Amostra[0]:\n",
      " [[-1.75539032]\n",
      " [-1.72782076]\n",
      " [-1.69388899]\n",
      " [-1.72994149]\n",
      " [-1.6472328 ]\n",
      " [-1.68964751]\n",
      " [-1.67056089]\n",
      " [-1.63874986]\n",
      " [-1.65147427]\n",
      " [-1.64511207]\n",
      " [-1.71509634]\n",
      " [-1.765994  ]\n",
      " [-1.73842443]\n",
      " [-1.72357928]\n",
      " [-1.72782076]\n",
      " [-1.74478664]\n",
      " [-1.62814618]\n",
      " [-1.68328531]\n",
      " [-1.5878522 ]\n",
      " [-1.59421441]\n",
      " [-1.58573147]\n",
      " [-1.56876558]\n",
      " [-1.57088632]\n",
      " [-1.57512779]\n",
      " [-1.65995722]\n",
      " [-1.6175425 ]\n",
      " [-1.53907528]\n",
      " [-1.50726425]\n",
      " [-1.4563666 ]\n",
      " [-1.32700172]] \n",
      "Temperatura:  -1.1912746411765847\n"
     ]
    },
    {
     "data": {
      "text/plain": [
       "<module 'matplotlib.pyplot' from '/usr/local/lib/python3.6/dist-packages/matplotlib/pyplot.py'>"
      ]
     },
     "execution_count": 16,
     "metadata": {
      "tags": []
     },
     "output_type": "execute_result"
    },
    {
     "data": {
      "image/png": "[encoded data removed]",
      "text/plain": [
       "<Figure size 576x432 with 1 Axes>"
      ]
     },
     "metadata": {
      "needs_background": "light",
      "tags": []
     },
     "output_type": "display_data"
    }
   ],
   "source": [
    "def create_time_steps(length):\n",
    "  time_steps = []\n",
    "  for i in range(-length, 0, 1):\n",
    "    time_steps.append(i)\n",
    "  return time_steps\n",
    "\n",
    "def show_plot(plot_data, delta, title):\n",
    "    labels = ['History', 'True Future', 'Model Prediction']\n",
    "    marker = ['.-', 'gX', 'ro']\n",
    "    time_steps = create_time_steps(plot_data[0].shape[0])\n",
    "    if delta:\n",
    "      future = delta\n",
    "    else:\n",
    "      future = 0\n",
    "\n",
    "    plt.title(title)\n",
    "    for i, x in enumerate(plot_data):\n",
    "      if i:\n",
    "        plt.plot(future, plot_data[i], marker[i], markersize=10,\n",
    "                label=labels[i])\n",
    "      else:\n",
    "        plt.plot(time_steps, plot_data[i].flatten(), marker[i], label=labels[i])\n",
    "    plt.legend()\n",
    "    plt.xlim([time_steps[0], (future+5)*2])\n",
    "    plt.xlabel('Time-Step')\n",
    "    return plt\n",
    "\n",
    "sample_id = 1\n",
    "print(\"#Amostras:\", len(x_train_uni),\"#Labels: \", len(y_train_uni))\n",
    "print (\"Amostra[0]:\\n\", x_train_uni[sample_id],\"\\nPreço: \", y_train_uni[sample_id])\n",
    "show_plot([x_train_uni[sample_id], y_train_uni[sample_id]], future, 'Sample Example')"
   ]
  },
  {
   "cell_type": "markdown",
   "metadata": {
    "colab_type": "text",
    "id": "b5rUJ_2YMWzG"
   },
   "source": [
    "### Baseline\n",
    "Para efeitos comparativos, vamos criar um modelo de predição utilizando a média das últimas 20 observações. Este simples modelo nos revela como a média pode ser falha para prever séries temporais"
   ]
  },
  {
   "cell_type": "code",
   "execution_count": 17,
   "metadata": {
    "colab": {
     "base_uri": "https://localhost:8080/",
     "height": 421
    },
    "colab_type": "code",
    "executionInfo": {
     "elapsed": 4248,
     "status": "ok",
     "timestamp": 1592941601235,
     "user": {
      "displayName": "Renato Tateiwa Suguiy",
      "photoUrl": "https://lh3.googleusercontent.com/a-/AOh14GgAOxrgKmMPt_o03rG41NrymipL5mFKRBjqvraS=s64",
      "userId": "12331134297691695995"
     },
     "user_tz": 180
    },
    "id": "P9nYWcxMMWnr",
    "outputId": "2031da5b-f18d-4eaf-dfe2-86d85f359746"
   },
   "outputs": [
    {
     "data": {
      "text/plain": [
       "<module 'matplotlib.pyplot' from '/usr/local/lib/python3.6/dist-packages/matplotlib/pyplot.py'>"
      ]
     },
     "execution_count": 17,
     "metadata": {
      "tags": []
     },
     "output_type": "execute_result"
    },
    {
     "data": {
      "image/png": "[encoded data removed]",
      "text/plain": [
       "<Figure size 576x432 with 1 Axes>"
      ]
     },
     "metadata": {
      "needs_background": "light",
      "tags": []
     },
     "output_type": "display_data"
    }
   ],
   "source": [
    "def baseline(history):\n",
    "  return np.mean(history)\n",
    "\n",
    "show_plot([x_train_uni[sample_id], y_train_uni[sample_id], baseline(x_train_uni[sample_id])], 0,\n",
    "           'Baseline Prediction Example')"
   ]
  },
  {
   "cell_type": "markdown",
   "metadata": {
    "colab_type": "text",
    "id": "H4crpOcoMlSe"
   },
   "source": [
    "### Recurrent neural network (SimpleRNN and LSTM)\n",
    "\n",
    "Definindo os datasets"
   ]
  },
  {
   "cell_type": "code",
   "execution_count": 18,
   "metadata": {
    "colab": {},
    "colab_type": "code",
    "executionInfo": {
     "elapsed": 11493,
     "status": "ok",
     "timestamp": 1592941608502,
     "user": {
      "displayName": "Renato Tateiwa Suguiy",
      "photoUrl": "https://lh3.googleusercontent.com/a-/AOh14GgAOxrgKmMPt_o03rG41NrymipL5mFKRBjqvraS=s64",
      "userId": "12331134297691695995"
     },
     "user_tz": 180
    },
    "id": "kk-evkrmMWh9"
   },
   "outputs": [],
   "source": [
    "BATCH_SIZE = 50\n",
    "BUFFER_SIZE = 10000\n",
    "\n",
    "train_univariate = tf.data.Dataset.from_tensor_slices((x_train_uni, y_train_uni))\n",
    "train_univariate = train_univariate.cache().shuffle(BUFFER_SIZE).batch(BATCH_SIZE).repeat()\n",
    "\n",
    "val_univariate = tf.data.Dataset.from_tensor_slices((x_val_uni, y_val_uni))\n",
    "val_univariate = val_univariate.batch(BATCH_SIZE).repeat()"
   ]
  },
  {
   "cell_type": "markdown",
   "metadata": {
    "colab_type": "text",
    "id": "4nagdTRNfPuZ"
   },
   "source": [
    "## Criando as arquiteturas"
   ]
  },
  {
   "cell_type": "markdown",
   "metadata": {
    "colab_type": "text",
    "id": "PFaqK9e0RF1M"
   },
   "source": [
    "RNN"
   ]
  },
  {
   "cell_type": "code",
   "execution_count": 19,
   "metadata": {
    "colab": {
     "base_uri": "https://localhost:8080/",
     "height": 221
    },
    "colab_type": "code",
    "executionInfo": {
     "elapsed": 11479,
     "status": "ok",
     "timestamp": 1592941608503,
     "user": {
      "displayName": "Renato Tateiwa Suguiy",
      "photoUrl": "https://lh3.googleusercontent.com/a-/AOh14GgAOxrgKmMPt_o03rG41NrymipL5mFKRBjqvraS=s64",
      "userId": "12331134297691695995"
     },
     "user_tz": 180
    },
    "id": "aAHki0m9Q-72",
    "outputId": "45adcb26-2290-4c3f-a1ba-663d2ffe1b21"
   },
   "outputs": [
    {
     "name": "stdout",
     "output_type": "stream",
     "text": [
      "Model: \"sequential\"\n",
      "_________________________________________________________________\n",
      "Layer (type)                 Output Shape              Param #   \n",
      "=================================================================\n",
      "simple_rnn (SimpleRNN)       (None, 8)                 80        \n",
      "_________________________________________________________________\n",
      "dense (Dense)                (None, 1)                 9         \n",
      "=================================================================\n",
      "Total params: 89\n",
      "Trainable params: 89\n",
      "Non-trainable params: 0\n",
      "_________________________________________________________________\n"
     ]
    }
   ],
   "source": [
    "simple_rnn_model = tf.keras.models.Sequential([\n",
    "    tf.keras.layers.SimpleRNN(8, input_shape=(x_train_uni.shape[1], \n",
    "    x_train_uni.shape[2])),    \n",
    "    tf.keras.layers.Dense(1)\n",
    "])\n",
    "\n",
    "\n",
    "simple_rnn_model.compile(optimizer='adam', loss='mae')\n",
    "\n",
    "simple_rnn_model.summary()"
   ]
  },
  {
   "cell_type": "markdown",
   "metadata": {
    "colab_type": "text",
    "id": "O_28S_NnQ-Z4"
   },
   "source": [
    "LSTM\n"
   ]
  },
  {
   "cell_type": "code",
   "execution_count": 20,
   "metadata": {
    "colab": {
     "base_uri": "https://localhost:8080/",
     "height": 221
    },
    "colab_type": "code",
    "executionInfo": {
     "elapsed": 11894,
     "status": "ok",
     "timestamp": 1592941608934,
     "user": {
      "displayName": "Renato Tateiwa Suguiy",
      "photoUrl": "https://lh3.googleusercontent.com/a-/AOh14GgAOxrgKmMPt_o03rG41NrymipL5mFKRBjqvraS=s64",
      "userId": "12331134297691695995"
     },
     "user_tz": 180
    },
    "id": "IDbpHosCMWZO",
    "outputId": "2ab78ba8-5670-4cda-c35c-2637675784f2"
   },
   "outputs": [
    {
     "name": "stdout",
     "output_type": "stream",
     "text": [
      "Model: \"sequential_1\"\n",
      "_________________________________________________________________\n",
      "Layer (type)                 Output Shape              Param #   \n",
      "=================================================================\n",
      "lstm (LSTM)                  (None, 8)                 320       \n",
      "_________________________________________________________________\n",
      "dense_1 (Dense)              (None, 1)                 9         \n",
      "=================================================================\n",
      "Total params: 329\n",
      "Trainable params: 329\n",
      "Non-trainable params: 0\n",
      "_________________________________________________________________\n"
     ]
    }
   ],
   "source": [
    "simple_lstm_model = tf.keras.models.Sequential([\n",
    "    tf.keras.layers.LSTM(8, input_shape=(x_train_uni.shape[1], \n",
    "    x_train_uni.shape[2])),\n",
    "    tf.keras.layers.Dense(1)\n",
    "])\n",
    "\n",
    "simple_lstm_model.compile(optimizer='adam', loss='mae')\n",
    "\n",
    "\n",
    "simple_lstm_model.summary()"
   ]
  },
  {
   "cell_type": "markdown",
   "metadata": {
    "colab_type": "text",
    "id": "euyPo_lyNryZ"
   },
   "source": [
    "## Treinamento\n",
    "\n",
    "Para poupar tempo, cada epoca conterá apenas 500 amostras ao invés da base toda. Podemos alterar este número depois para ver o impacto."
   ]
  },
  {
   "cell_type": "code",
   "execution_count": 21,
   "metadata": {
    "colab": {},
    "colab_type": "code",
    "executionInfo": {
     "elapsed": 11877,
     "status": "ok",
     "timestamp": 1592941608936,
     "user": {
      "displayName": "Renato Tateiwa Suguiy",
      "photoUrl": "https://lh3.googleusercontent.com/a-/AOh14GgAOxrgKmMPt_o03rG41NrymipL5mFKRBjqvraS=s64",
      "userId": "12331134297691695995"
     },
     "user_tz": 180
    },
    "id": "5isdRf_5I2y6"
   },
   "outputs": [],
   "source": [
    "EVALUATION_INTERVAL = 500\n",
    "EPOCHS = 25\n",
    "es = EarlyStopping(monitor='val_loss', mode='min', verbose=1)"
   ]
  },
  {
   "cell_type": "markdown",
   "metadata": {
    "colab_type": "text",
    "id": "YYSvlKbLQ4X_"
   },
   "source": [
    "RNN"
   ]
  },
  {
   "cell_type": "code",
   "execution_count": 22,
   "metadata": {
    "colab": {
     "base_uri": "https://localhost:8080/",
     "height": 272
    },
    "colab_type": "code",
    "executionInfo": {
     "elapsed": 76884,
     "status": "ok",
     "timestamp": 1592941673975,
     "user": {
      "displayName": "Renato Tateiwa Suguiy",
      "photoUrl": "https://lh3.googleusercontent.com/a-/AOh14GgAOxrgKmMPt_o03rG41NrymipL5mFKRBjqvraS=s64",
      "userId": "12331134297691695995"
     },
     "user_tz": 180
    },
    "id": "L4WxBSnCo-i-",
    "outputId": "59965747-fd23-4ce9-b44e-9bd8787a177a"
   },
   "outputs": [
    {
     "name": "stdout",
     "output_type": "stream",
     "text": [
      "Epoch 1/25\n",
      "500/500 [==============================] - 9s 18ms/step - loss: 0.4311 - val_loss: 0.7036\n",
      "Epoch 2/25\n",
      "500/500 [==============================] - 9s 18ms/step - loss: 0.3463 - val_loss: 0.6599\n",
      "Epoch 3/25\n",
      "500/500 [==============================] - 9s 18ms/step - loss: 0.3366 - val_loss: 0.6599\n",
      "Epoch 4/25\n",
      "500/500 [==============================] - 9s 18ms/step - loss: 0.3313 - val_loss: 0.6566\n",
      "Epoch 5/25\n",
      "500/500 [==============================] - 9s 18ms/step - loss: 0.3254 - val_loss: 0.6437\n",
      "Epoch 6/25\n",
      "500/500 [==============================] - 9s 18ms/step - loss: 0.3143 - val_loss: 0.6427\n",
      "Epoch 7/25\n",
      "500/500 [==============================] - 9s 17ms/step - loss: 0.3024 - val_loss: 0.6466\n",
      "Epoch 00007: early stopping\n"
     ]
    }
   ],
   "source": [
    "rnn_log = simple_rnn_model.fit(train_univariate, epochs=EPOCHS,\n",
    "                      steps_per_epoch=EVALUATION_INTERVAL,\n",
    "                      validation_data=val_univariate, validation_steps=50, callbacks=[es])"
   ]
  },
  {
   "cell_type": "markdown",
   "metadata": {
    "colab_type": "text",
    "id": "3gD-W86jQ5dF"
   },
   "source": [
    "LSTM"
   ]
  },
  {
   "cell_type": "code",
   "execution_count": 23,
   "metadata": {
    "colab": {
     "base_uri": "https://localhost:8080/",
     "height": 170
    },
    "colab_type": "code",
    "executionInfo": {
     "elapsed": 89383,
     "status": "ok",
     "timestamp": 1592941686505,
     "user": {
      "displayName": "Renato Tateiwa Suguiy",
      "photoUrl": "https://lh3.googleusercontent.com/a-/AOh14GgAOxrgKmMPt_o03rG41NrymipL5mFKRBjqvraS=s64",
      "userId": "12331134297691695995"
     },
     "user_tz": 180
    },
    "id": "3NzLbuHxI3BP",
    "outputId": "4c86b599-bb05-46e0-f348-f025adabad82"
   },
   "outputs": [
    {
     "name": "stdout",
     "output_type": "stream",
     "text": [
      "Epoch 1/25\n",
      "500/500 [==============================] - 2s 4ms/step - loss: 0.4623 - val_loss: 0.8123\n",
      "Epoch 2/25\n",
      "500/500 [==============================] - 2s 4ms/step - loss: 0.3458 - val_loss: 0.7556\n",
      "Epoch 3/25\n",
      "500/500 [==============================] - 2s 4ms/step - loss: 0.3151 - val_loss: 0.7220\n",
      "Epoch 4/25\n",
      "500/500 [==============================] - 2s 3ms/step - loss: 0.2893 - val_loss: 0.7298\n",
      "Epoch 00004: early stopping\n"
     ]
    }
   ],
   "source": [
    "lstm_log = simple_lstm_model.fit(train_univariate, epochs=EPOCHS,\n",
    "                      steps_per_epoch=EVALUATION_INTERVAL,\n",
    "                      validation_data=val_univariate, validation_steps=50,callbacks=[es])"
   ]
  },
  {
   "cell_type": "markdown",
   "metadata": {
    "colab_type": "text",
    "id": "YRG9inwlQmF5"
   },
   "source": [
    "## Visualização do Treinamento"
   ]
  },
  {
   "cell_type": "code",
   "execution_count": 24,
   "metadata": {
    "colab": {},
    "colab_type": "code",
    "executionInfo": {
     "elapsed": 90075,
     "status": "ok",
     "timestamp": 1592941687218,
     "user": {
      "displayName": "Renato Tateiwa Suguiy",
      "photoUrl": "https://lh3.googleusercontent.com/a-/AOh14GgAOxrgKmMPt_o03rG41NrymipL5mFKRBjqvraS=s64",
      "userId": "12331134297691695995"
     },
     "user_tz": 180
    },
    "id": "IP_xBAW3sbp5"
   },
   "outputs": [],
   "source": [
    "def plot_train_history(history, title):\n",
    "  loss = history.history['loss']\n",
    "  val_loss = history.history['val_loss']\n",
    "\n",
    "  epochs = range(len(loss))\n",
    "\n",
    "  plt.figure()\n",
    "\n",
    "  plt.plot(epochs, loss, 'b', label='Training loss')\n",
    "  plt.plot(epochs, val_loss, 'r', label='Validation loss')\n",
    "  plt.title(title)\n",
    "  plt.legend()\n",
    "\n",
    "  plt.show()"
   ]
  },
  {
   "cell_type": "code",
   "execution_count": 25,
   "metadata": {
    "colab": {
     "base_uri": "https://localhost:8080/",
     "height": 0
    },
    "colab_type": "code",
    "executionInfo": {
     "elapsed": 90050,
     "status": "ok",
     "timestamp": 1592941687219,
     "user": {
      "displayName": "Renato Tateiwa Suguiy",
      "photoUrl": "https://lh3.googleusercontent.com/a-/AOh14GgAOxrgKmMPt_o03rG41NrymipL5mFKRBjqvraS=s64",
      "userId": "12331134297691695995"
     },
     "user_tz": 180
    },
    "id": "tpGVZS1XtBBk",
    "outputId": "7923500a-2c59-436d-8907-c91dbfd7a188"
   },
   "outputs": [
    {
     "data": {
      "image/png": "[encoded data removed]",
      "text/plain": [
       "<Figure size 576x432 with 1 Axes>"
      ]
     },
     "metadata": {
      "needs_background": "light",
      "tags": []
     },
     "output_type": "display_data"
    },
    {
     "data": {
      "image/png": "[encoded data removed]",
      "text/plain": [
       "<Figure size 576x432 with 1 Axes>"
      ]
     },
     "metadata": {
      "needs_background": "light",
      "tags": []
     },
     "output_type": "display_data"
    }
   ],
   "source": [
    " plot_train_history(rnn_log,\n",
    "                   'RNN Training and validation loss')\n",
    " plot_train_history(lstm_log,\n",
    "                   'LSTM Training and validation loss')"
   ]
  },
  {
   "cell_type": "code",
   "execution_count": 26,
   "metadata": {
    "colab": {
     "base_uri": "https://localhost:8080/",
     "height": 1000
    },
    "colab_type": "code",
    "executionInfo": {
     "elapsed": 91843,
     "status": "ok",
     "timestamp": 1592941689045,
     "user": {
      "displayName": "Renato Tateiwa Suguiy",
      "photoUrl": "https://lh3.googleusercontent.com/a-/AOh14GgAOxrgKmMPt_o03rG41NrymipL5mFKRBjqvraS=s64",
      "userId": "12331134297691695995"
     },
     "user_tz": 180
    },
    "id": "iYLS69gdURgM",
    "outputId": "66e0fb22-9175-467f-e41e-f2136b4f1862"
   },
   "outputs": [
    {
     "data": {
      "image/png": "[encoded data removed]",
      "text/plain": [
       "<Figure size 576x432 with 1 Axes>"
      ]
     },
     "metadata": {
      "needs_background": "light",
      "tags": []
     },
     "output_type": "display_data"
    },
    {
     "data": {
      "image/png": "[encoded data removed]",
      "text/plain": [
       "<Figure size 576x432 with 1 Axes>"
      ]
     },
     "metadata": {
      "needs_background": "light",
      "tags": []
     },
     "output_type": "display_data"
    },
    {
     "data": {
      "image/png": "[encoded data removed]",
      "text/plain": [
       "<Figure size 576x432 with 1 Axes>"
      ]
     },
     "metadata": {
      "needs_background": "light",
      "tags": []
     },
     "output_type": "display_data"
    },
    {
     "data": {
      "image/png": "[encoded data removed]",
      "text/plain": [
       "<Figure size 576x432 with 1 Axes>"
      ]
     },
     "metadata": {
      "needs_background": "light",
      "tags": []
     },
     "output_type": "display_data"
    },
    {
     "data": {
      "image/png": "[encoded data removed]",
      "text/plain": [
       "<Figure size 576x432 with 1 Axes>"
      ]
     },
     "metadata": {
      "needs_background": "light",
      "tags": []
     },
     "output_type": "display_data"
    }
   ],
   "source": [
    "def plot_preds(plot_data, delta=0):\n",
    "    labels = ['History', 'True Future', 'RNN Prediction','LSTM Prediction']\n",
    "    marker = ['.-', 'gX', 'ro' , 'bo']\n",
    "    time_steps = create_time_steps(plot_data[0].shape[0])\n",
    "    \n",
    "\n",
    "    future = delta\n",
    "\n",
    "    plt.title('Predictions')\n",
    "    for i, x in enumerate(plot_data):\n",
    "      if i:\n",
    "        plt.plot(future, plot_data[i], marker[i], markersize=10,\n",
    "                label=labels[i])\n",
    "      else:\n",
    "        plt.plot(time_steps, plot_data[i].flatten(), marker[i], label=labels[i])\n",
    "    plt.legend()\n",
    "    plt.xlim([time_steps[0], (future+5)*2])\n",
    "    plt.xlabel('Time-Step')\n",
    "    return plt\n",
    "\n",
    "for x, y in val_univariate.take(5):\n",
    "  plot = plot_preds([x[0].numpy(), y[0].numpy(),\n",
    "                    simple_rnn_model.predict(x)[0], simple_lstm_model.predict(x)[0]], future)\n",
    "  plot.show()"
   ]
  },
  {
   "cell_type": "code",
   "execution_count": 27,
   "metadata": {
    "colab": {
     "base_uri": "https://localhost:8080/",
     "height": 51
    },
    "colab_type": "code",
    "executionInfo": {
     "elapsed": 95936,
     "status": "ok",
     "timestamp": 1592941693159,
     "user": {
      "displayName": "Renato Tateiwa Suguiy",
      "photoUrl": "https://lh3.googleusercontent.com/a-/AOh14GgAOxrgKmMPt_o03rG41NrymipL5mFKRBjqvraS=s64",
      "userId": "12331134297691695995"
     },
     "user_tz": 180
    },
    "id": "SHzyM4eLnj2K",
    "outputId": "65860e47-0d77-4f41-c2b2-18d39845e189"
   },
   "outputs": [
    {
     "name": "stdout",
     "output_type": "stream",
     "text": [
      "[0.06292271]\n",
      "[0.37261027]\n"
     ]
    }
   ],
   "source": [
    "#Calculs uma taxa de erro\n",
    "\n",
    "err_rnn=0\n",
    "err_lstm=0\n",
    "\n",
    "for x, y in val_univariate.take(100):\n",
    "  err_rnn += abs(y[0].numpy() - simple_rnn_model.predict(x)[0])\n",
    "  err_lstm += abs(y[0].numpy() - simple_lstm_model.predict(x)[0])\n",
    "  \n",
    "err_rnn = err_rnn/100\n",
    "err_lstm = err_lstm/100\n",
    "  \n",
    "print(err_rnn)\n",
    "print(err_lstm)\n",
    "  "
   ]
  },
  {
   "cell_type": "code",
   "execution_count": 28,
   "metadata": {
    "colab": {
     "base_uri": "https://localhost:8080/",
     "height": 0
    },
    "colab_type": "code",
    "executionInfo": {
     "elapsed": 96180,
     "status": "ok",
     "timestamp": 1592941693433,
     "user": {
      "displayName": "Renato Tateiwa Suguiy",
      "photoUrl": "https://lh3.googleusercontent.com/a-/AOh14GgAOxrgKmMPt_o03rG41NrymipL5mFKRBjqvraS=s64",
      "userId": "12331134297691695995"
     },
     "user_tz": 180
    },
    "id": "jTPtKccR2000",
    "outputId": "692cb356-6166-4201-90ec-642d42a57378"
   },
   "outputs": [
    {
     "name": "stdout",
     "output_type": "stream",
     "text": [
      "Previsão para 18 dias\n",
      "RNN: 19.491666793823242\n",
      "LSTM: 17.485820770263672\n"
     ]
    }
   ],
   "source": [
    "# Target em n dias \n",
    "\n",
    "ultData = np.reshape(uni_data[-1*univariate_past_history:],(1,univariate_past_history,1))\n",
    "\n",
    "prevRnn = (simple_rnn_model.predict(ultData))* uni_train_std + uni_train_mean\n",
    "prevLstm = (simple_lstm_model.predict(ultData))* uni_train_std + uni_train_mean\n",
    "\n",
    "\n",
    "print('Previsão para {} dias\\nRNN: {}\\nLSTM: {}'.format(future,float(prevRnn[0]), float(prevLstm[0])))"
   ]
  },
  {
   "cell_type": "code",
   "execution_count": 29,
   "metadata": {
    "colab": {
     "base_uri": "https://localhost:8080/",
     "height": 105
    },
    "colab_type": "code",
    "executionInfo": {
     "elapsed": 99823,
     "status": "ok",
     "timestamp": 1592941697118,
     "user": {
      "displayName": "Renato Tateiwa Suguiy",
      "photoUrl": "https://lh3.googleusercontent.com/a-/AOh14GgAOxrgKmMPt_o03rG41NrymipL5mFKRBjqvraS=s64",
      "userId": "12331134297691695995"
     },
     "user_tz": 180
    },
    "id": "rBvjSZJF2WTh",
    "outputId": "3be36998-0047-4aa6-fe24-06d92702d2d6"
   },
   "outputs": [
    {
     "name": "stdout",
     "output_type": "stream",
     "text": [
      "WARNING:tensorflow:From /usr/local/lib/python3.6/dist-packages/tensorflow/python/ops/resource_variable_ops.py:1817: calling BaseResourceVariable.__init__ (from tensorflow.python.ops.resource_variable_ops) with constraint is deprecated and will be removed in a future version.\n",
      "Instructions for updating:\n",
      "If using Keras pass *_constraint arguments to layers.\n",
      "INFO:tensorflow:Assets written to: model/assets\n"
     ]
    }
   ],
   "source": [
    "#Salvar o modelo \n",
    "\n",
    "simple_lstm_model.save('model') #pesos\n",
    "\n",
    "jsmodel=simple_lstm_model.to_json()  #jsom\n",
    "with open('model_config.json', 'w') as json_file:\n",
    "    json_file.write(jsmodel)"
   ]
  }
 ],
 "metadata": {
  "accelerator": "GPU",
  "colab": {
   "collapsed_sections": [],
   "name": "Petro4_UniVal_RNN_LSTM.ipynb",
   "provenance": [
    {
     "file_id": "1HJZTTmSmcxDgWDLlxKLv-jprzvC1pPRk",
     "timestamp": 1587233432063
    }
   ],
   "toc_visible": true
  },
  "kernelspec": {
   "display_name": "Python 3",
   "language": "python",
   "name": "python3"
  },
  "language_info": {
   "codemirror_mode": {
    "name": "ipython",
    "version": 3
   },
   "file_extension": ".py",
   "mimetype": "text/x-python",
   "name": "python",
   "nbconvert_exporter": "python",
   "pygments_lexer": "ipython3",
   "version": "3.6.10"
  }
 },
 "nbformat": 4,
 "nbformat_minor": 1
}
