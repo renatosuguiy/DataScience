{
 "cells": [
  {
   "cell_type": "markdown",
   "metadata": {},
   "source": [
    "# **Processamento de Linguagem Natural**\n",
    "\n",
    "## Trabalho feito para a matéria de Processamento de Linguagem Natural da Pós-Graduação em Ciência de Dados ofertado pela PUCPR - Curitiba.\n",
    "## Ministrado pelo professor Emerson Cabrera Paraiso.\n",
    "## Elaborado por Renato Suguiy"
   ]
  },
  {
   "cell_type": "code",
   "execution_count": 1,
   "metadata": {
    "colab": {},
    "colab_type": "code",
    "id": "bTwRw3xNX5cj"
   },
   "outputs": [],
   "source": [
    "import tensorflow as tf"
   ]
  },
  {
   "cell_type": "code",
   "execution_count": 1,
   "metadata": {
    "colab": {
     "base_uri": "https://localhost:8080/",
     "height": 68
    },
    "colab_type": "code",
    "id": "X2m2QySzYw0W",
    "outputId": "61b7b210-e5de-4c4b-bf6e-87be6f6bc0b1"
   },
   "outputs": [
    {
     "ename": "ModuleNotFoundError",
     "evalue": "No module named 'nltk'",
     "output_type": "error",
     "traceback": [
      "\u001b[0;31m---------------------------------------------------------------------------\u001b[0m",
      "\u001b[0;31mModuleNotFoundError\u001b[0m                       Traceback (most recent call last)",
      "\u001b[0;32m<ipython-input-1-4c8f2ca56bfc>\u001b[0m in \u001b[0;36m<module>\u001b[0;34m\u001b[0m\n\u001b[1;32m      1\u001b[0m \u001b[0;31m#importando biblioteca de stopwords\u001b[0m\u001b[0;34m\u001b[0m\u001b[0;34m\u001b[0m\u001b[0;34m\u001b[0m\u001b[0m\n\u001b[0;32m----> 2\u001b[0;31m \u001b[0;32mimport\u001b[0m \u001b[0mnltk\u001b[0m\u001b[0;34m\u001b[0m\u001b[0;34m\u001b[0m\u001b[0m\n\u001b[0m\u001b[1;32m      3\u001b[0m \u001b[0mnltk\u001b[0m\u001b[0;34m.\u001b[0m\u001b[0mdownload\u001b[0m\u001b[0;34m(\u001b[0m\u001b[0;34m'stopwords'\u001b[0m\u001b[0;34m)\u001b[0m\u001b[0;34m\u001b[0m\u001b[0;34m\u001b[0m\u001b[0m\n",
      "\u001b[0;31mModuleNotFoundError\u001b[0m: No module named 'nltk'"
     ]
    }
   ],
   "source": [
    "#importando biblioteca de stopwords \n",
    "import nltk\n",
    "nltk.download('stopwords')"
   ]
  },
  {
   "cell_type": "code",
   "execution_count": 3,
   "metadata": {
    "colab": {},
    "colab_type": "code",
    "id": "8BbO35yiYA01"
   },
   "outputs": [],
   "source": [
    "import csv\n",
    "import io\n",
    "import tensorflow as tf\n",
    "import numpy as np\n",
    "from tensorflow.keras.preprocessing.text import Tokenizer\n",
    "from tensorflow.keras.preprocessing.sequence import pad_sequences\n",
    "from tensorflow.keras.callbacks import EarlyStopping\n",
    "from nltk.corpus import stopwords\n",
    "from string import punctuation\n",
    "from sklearn.model_selection import train_test_split\n",
    "#STOPWORDS = set(stopwords.words('portuguese'))\n",
    "\n",
    "STOPWORDS = set(stopwords.words('portuguese') + list(punctuation))\n"
   ]
  },
  {
   "cell_type": "code",
   "execution_count": 4,
   "metadata": {
    "colab": {},
    "colab_type": "code",
    "id": "aCM22r2KZExP"
   },
   "outputs": [],
   "source": [
    "# Parâmetros Principais\n",
    "\n",
    "# Tamanho do vocabulário a ser criado com o tokenizer. Este considera as N palavras mais comuns (ou frequentes nos textos)\n",
    "vocab_size = 50000\n",
    "\n",
    "# Tamanho do vetor de características que representa cada palavra. Cada palavra é transformada para um vetor com 64 entradas.\n",
    "embedding_dim = 64\n",
    "\n",
    "# Tamanho máximo da sequência de códigos que representa um texto (tamanho do feature vector)\n",
    "max_length = 35\n",
    "\n",
    "# Tipo de truncagem a ser utilizado, 'post' significa remover valores do final da sequência.\n",
    "trunc_type = 'post'\n",
    "\n",
    "# Tipo de padding a ser utilizado, 'post' significa completar no final da sequência.\n",
    "padding_type = 'post'\n",
    "\n",
    "# Token a ser utilizado quando uma palavra não presente no vocabulário é encontrada no texto\n",
    "Not_known = '<NKN>'\n",
    "\n",
    "# Porcentagem de instâncias a ser utilizada no treinamento\n",
    "training_portion = .7"
   ]
  },
  {
   "cell_type": "code",
   "execution_count": 5,
   "metadata": {
    "colab": {
     "base_uri": "https://localhost:8080/",
     "height": 139
    },
    "colab_type": "code",
    "id": "loZOoQUMZJZE",
    "outputId": "86796e5f-7d49-4423-e534-dcff9ed89cdb"
   },
   "outputs": [
    {
     "name": "stdout",
     "output_type": "stream",
     "text": [
      "<_csv.reader object at 0x0000020AEF02D908>\n",
      "252 183 1022 542\n",
      "1747\n",
      "1747\n"
     ]
    }
   ],
   "source": [
    "# Carrega os textos. Em X o texto de entrada e em y os rótulos.\n",
    "# Cada linha do texto carrega é filtrada para retirada de stopwords.\n",
    "\n",
    "def ler(file):\n",
    "    with open(file, 'rt', encoding='utf8') as txtfile:\n",
    "        classe = ''\n",
    "        positivo, negativo, neutro, surpresa = 0,0,0,0\n",
    "        texto = csv.reader(txtfile, delimiter=';')      # lê um texto do arquivo\n",
    "        print(texto)\n",
    "        next(texto)\n",
    "        for linha in texto:       # processa cada linha do texto\n",
    "            #texto = linha.split(';')\n",
    "            \n",
    "            if linha[0] == 'surpresa':\n",
    "                surpresa = surpresa + 1\n",
    "                continue\n",
    "            elif linha[0] == 'neutro':\n",
    "                classe = 'neutro'\n",
    "                neutro = neutro + 1\n",
    "            elif linha[0] == 'alegria':\n",
    "                positivo = positivo + 1\n",
    "                classe = 'positivo'\n",
    "            elif linha[0] == 'raiva' or 'medo' or 'desgosto' or 'tristeza':\n",
    "                negativo = negativo + 1\n",
    "                classe = 'negativo'\n",
    "           \n",
    "            y.append(classe)    # rotulo da linha\n",
    "            aux = linha[2]\n",
    "            for word in STOPWORDS:        # retirada de stopwords\n",
    "                token = ' ' + word + ' '\n",
    "                aux = aux.replace(token, ' ')\n",
    "                aux = aux.replace(' ', ' ')\n",
    "            X.append(aux)\n",
    "            \n",
    "        print(surpresa,positivo, negativo, neutro)\n",
    "X = []\n",
    "y = []\n",
    "ler('2000_textos.txt')\n",
    "\n",
    "print(len(y))       # quantidade de rótulos\n",
    "print(len(X))       # quantidade de textos\n",
    "\n",
    "train_X, validation_X, train_y, validation_y = train_test_split(X,y,test_size=.3, random_state=42, stratify=y)\n"
   ]
  },
  {
   "cell_type": "code",
   "execution_count": 6,
   "metadata": {
    "colab": {},
    "colab_type": "code",
    "id": "eCZn9vA_Z2Zn"
   },
   "outputs": [],
   "source": [
    "# Cria o vocabulário a partir da base de treinamento considerando o tamanho definido em vocab_size.\n",
    "# Utiliza como coringa o símbolo Not_known\n",
    "tokenizer = Tokenizer(num_words = vocab_size, oov_token=Not_known)\n",
    "tokenizer.fit_on_texts(train_X)\n",
    "word_index = tokenizer.word_index"
   ]
  },
  {
   "cell_type": "code",
   "execution_count": 7,
   "metadata": {
    "colab": {
     "base_uri": "https://localhost:8080/",
     "height": 187
    },
    "colab_type": "code",
    "id": "IJ5RBL6NZ81j",
    "outputId": "0ccdf8c0-75a4-4be3-b7d6-dc32e64f3b94"
   },
   "outputs": [
    {
     "data": {
      "text/plain": [
       "{'<NKN>': 1,\n",
       " 'diz': 2,\n",
       " 'anos': 3,\n",
       " 'feira': 4,\n",
       " 'segundo': 5,\n",
       " 'polícia': 6,\n",
       " 'após': 7,\n",
       " 'pessoas': 8,\n",
       " 'contra': 9,\n",
       " 'país': 10}"
      ]
     },
     "execution_count": 7,
     "metadata": {},
     "output_type": "execute_result"
    }
   ],
   "source": [
    "# Lista os N primeiros vocábulos do dicionários (os N mais frequentes)\n",
    "N=10\n",
    "dict(list(word_index.items())[0:N])\n"
   ]
  },
  {
   "cell_type": "code",
   "execution_count": 8,
   "metadata": {
    "colab": {},
    "colab_type": "code",
    "id": "BDSnnl_MaC5e"
   },
   "outputs": [],
   "source": [
    "# Converte uma linha de texto em uma sequência de valores\n",
    "train_sequences = tokenizer.texts_to_sequences(train_X)"
   ]
  },
  {
   "cell_type": "code",
   "execution_count": 9,
   "metadata": {
    "colab": {
     "base_uri": "https://localhost:8080/",
     "height": 34
    },
    "colab_type": "code",
    "id": "Zids558vaHzB",
    "outputId": "7b9d719c-9d22-499f-f012-a5b17a106d8d"
   },
   "outputs": [
    {
     "name": "stdout",
     "output_type": "stream",
     "text": [
      "[3428, 2118, 3429, 1148, 126, 759, 1518, 3430, 3431, 2119, 12, 22, 4, 3432, 3433, 2118, 146, 2120, 1148, 923, 760, 2121, 2122, 3434, 126, 759, 2123, 3435, 274, 761, 3436]\n"
     ]
    }
   ],
   "source": [
    "# Mostra uma linha de texto convertida para sequência de valores\n",
    "# Cada valor representa uma palavra do vocabulário\n",
    "print(train_sequences[5])"
   ]
  },
  {
   "cell_type": "code",
   "execution_count": 10,
   "metadata": {
    "colab": {},
    "colab_type": "code",
    "id": "s2jxWfWVaNPR"
   },
   "outputs": [],
   "source": [
    "# Transforma todas as sequências para um tamanho fixo. Sequências pequenas são completadas e sequências maiores que o limite são truncadas\n",
    "train_padded = pad_sequences(train_sequences, maxlen=max_length, padding=padding_type, truncating=trunc_type)"
   ]
  },
  {
   "cell_type": "code",
   "execution_count": 11,
   "metadata": {
    "colab": {
     "base_uri": "https://localhost:8080/",
     "height": 119
    },
    "colab_type": "code",
    "id": "eXpamqjxaTfL",
    "outputId": "ec1bacd4-d980-438d-845d-f9e5fb49c329"
   },
   "outputs": [
    {
     "name": "stdout",
     "output_type": "stream",
     "text": [
      "21\n",
      "35\n",
      "19\n",
      "35\n",
      "25\n",
      "35\n"
     ]
    }
   ],
   "source": [
    "print(len(train_sequences[0]))\n",
    "print(len(train_padded[0]))\n",
    "\n",
    "print(len(train_sequences[1]))\n",
    "print(len(train_padded[1]))\n",
    "\n",
    "print(len(train_sequences[10]))\n",
    "print(len(train_padded[10]))"
   ]
  },
  {
   "cell_type": "code",
   "execution_count": 12,
   "metadata": {
    "colab": {
     "base_uri": "https://localhost:8080/",
     "height": 68
    },
    "colab_type": "code",
    "id": "o4uSyQj2aZrY",
    "outputId": "67fe20db-73d7-4364-c297-7f6dda8eb5a8"
   },
   "outputs": [
    {
     "name": "stdout",
     "output_type": "stream",
     "text": [
      "[  90 3437 2124 1149 3438    7  472 1519 3439 2125 3440 3441 1150 2126\n",
      "   73 1151 3442    5    6   81    0    0    0    0    0    0    0    0\n",
      "    0    0    0    0    0    0    0]\n"
     ]
    }
   ],
   "source": [
    "# Imprime uma sequência\n",
    "print(train_padded[6])"
   ]
  },
  {
   "cell_type": "code",
   "execution_count": 13,
   "metadata": {
    "colab": {
     "base_uri": "https://localhost:8080/",
     "height": 51
    },
    "colab_type": "code",
    "id": "Job1hIYQafUq",
    "outputId": "674986d1-bd7c-4d4f-b319-8f75b1ea9371"
   },
   "outputs": [
    {
     "name": "stdout",
     "output_type": "stream",
     "text": [
      "525\n",
      "(525, 35)\n"
     ]
    }
   ],
   "source": [
    "# Tokeniza a base de validação.\n",
    "\n",
    "validation_sequences = tokenizer.texts_to_sequences(validation_X)\n",
    "validation_padded = pad_sequences(validation_sequences, maxlen=max_length, padding=padding_type, truncating=trunc_type)\n",
    "\n",
    "print(len(validation_sequences))\n",
    "print(validation_padded.shape)"
   ]
  },
  {
   "cell_type": "code",
   "execution_count": 14,
   "metadata": {
    "colab": {
     "base_uri": "https://localhost:8080/",
     "height": 34
    },
    "colab_type": "code",
    "id": "PJmSci_Ram7C",
    "outputId": "12985b5f-25c2-4745-d825-69b6598a3eb0"
   },
   "outputs": [
    {
     "name": "stdout",
     "output_type": "stream",
     "text": [
      "{'positivo', 'neutro', 'negativo'}\n"
     ]
    }
   ],
   "source": [
    "# Mostra o conjunto de rótulos\n",
    "print(set(y))"
   ]
  },
  {
   "cell_type": "code",
   "execution_count": 15,
   "metadata": {
    "colab": {},
    "colab_type": "code",
    "id": "El9KrDsdasAU"
   },
   "outputs": [],
   "source": [
    "# Tokeniza os rótulos\n",
    "label_tokenizer = Tokenizer()\n",
    "label_tokenizer.fit_on_texts(y)\n",
    "\n",
    "# Observe que subtraímos 1 dos códigos para estes comecem em 0\n",
    "training_label_seq = np.array(label_tokenizer.texts_to_sequences(train_y))-1\n",
    "validation_label_seq = np.array(label_tokenizer.texts_to_sequences(validation_y))-1"
   ]
  },
  {
   "cell_type": "code",
   "execution_count": 16,
   "metadata": {
    "colab": {
     "base_uri": "https://localhost:8080/",
     "height": 153
    },
    "colab_type": "code",
    "id": "KtA4DaEpawPj",
    "outputId": "ba4b4602-9604-41c5-bef8-f2402ffa6d05"
   },
   "outputs": [
    {
     "name": "stdout",
     "output_type": "stream",
     "text": [
      "[1]\n",
      "[2]\n",
      "[0]\n",
      "(1222, 1)\n",
      "[0]\n",
      "[2]\n",
      "[0]\n",
      "(525, 1)\n"
     ]
    }
   ],
   "source": [
    "print(training_label_seq[0])\n",
    "print(training_label_seq[1])\n",
    "print(training_label_seq[400])\n",
    "print(training_label_seq.shape)\n",
    "\n",
    "print(validation_label_seq[0])\n",
    "print(validation_label_seq[1])\n",
    "print(validation_label_seq[50])\n",
    "print(validation_label_seq.shape)"
   ]
  },
  {
   "cell_type": "code",
   "execution_count": 17,
   "metadata": {
    "colab": {
     "base_uri": "https://localhost:8080/",
     "height": 88
    },
    "colab_type": "code",
    "id": "KN6zfnEVa2FN",
    "outputId": "e50e6790-13be-4f0e-9c7a-afd614cfa51e"
   },
   "outputs": [
    {
     "name": "stdout",
     "output_type": "stream",
     "text": [
      "coreia sul eua elevam alerta militar conta coreia norte nível alerta subiu 1 2 maior desde outubro 2006 vigilância sobre regime pyongyang reforçada aviões pessoal ? ? ? ? ? ? ? ? ? ?\n",
      "---\n",
      "coreia sul eua elevam alerta militar conta coreia norte: nível alerta subiu 1 2, maior desde outubro 2006. vigilância sobre regime pyongyang reforçada aviões pessoal.\n"
     ]
    }
   ],
   "source": [
    "# Confere como ficaram as nossas frases depois de transformdas\n",
    "# Apenas para conferência.\n",
    "\n",
    "reverse_word_index = dict([(value, key) for (key, value) in word_index.items()])\n",
    "\n",
    "def decode_article(text):\n",
    "    return ' '.join([reverse_word_index.get(i, '?') for i in text])\n",
    "print(decode_article(train_padded[10]))\n",
    "print('---')\n",
    "print(train_X[10])"
   ]
  },
  {
   "cell_type": "code",
   "execution_count": 18,
   "metadata": {
    "colab": {
     "base_uri": "https://localhost:8080/",
     "height": 629
    },
    "colab_type": "code",
    "id": "7G3sPURXa-V7",
    "outputId": "141dba50-6e72-449f-cd24-c71b84097bd7"
   },
   "outputs": [
    {
     "name": "stdout",
     "output_type": "stream",
     "text": [
      "Model: \"sequential\"\n",
      "_________________________________________________________________\n",
      "Layer (type)                 Output Shape              Param #   \n",
      "=================================================================\n",
      "embedding (Embedding)        (None, None, 64)          3200000   \n",
      "_________________________________________________________________\n",
      "bidirectional (Bidirectional (None, 128)               66048     \n",
      "_________________________________________________________________\n",
      "dense (Dense)                (None, 64)                8256      \n",
      "_________________________________________________________________\n",
      "dense_1 (Dense)              (None, 3)                 195       \n",
      "=================================================================\n",
      "Total params: 3,274,499\n",
      "Trainable params: 3,274,499\n",
      "Non-trainable params: 0\n",
      "_________________________________________________________________\n",
      "Epoch 1/100\n",
      "39/39 - 2s - loss: 0.9626 - accuracy: 0.5663 - val_loss: 0.8842 - val_accuracy: 0.5848\n",
      "Epoch 2/100\n",
      "39/39 - 1s - loss: 0.6355 - accuracy: 0.7242 - val_loss: 0.6737 - val_accuracy: 0.7181\n",
      "Epoch 3/100\n",
      "39/39 - 1s - loss: 0.3150 - accuracy: 0.8707 - val_loss: 0.7151 - val_accuracy: 0.7467\n",
      "Epoch 4/100\n",
      "39/39 - 1s - loss: 0.0761 - accuracy: 0.9722 - val_loss: 0.8078 - val_accuracy: 0.7333\n",
      "Epoch 5/100\n",
      "39/39 - 1s - loss: 0.0042 - accuracy: 1.0000 - val_loss: 1.2151 - val_accuracy: 0.7543\n",
      "Epoch 6/100\n",
      "39/39 - 2s - loss: 9.4741e-04 - accuracy: 1.0000 - val_loss: 1.2431 - val_accuracy: 0.7619\n",
      "Epoch 7/100\n",
      "39/39 - 1s - loss: 1.9630e-04 - accuracy: 1.0000 - val_loss: 1.2980 - val_accuracy: 0.7505\n",
      "Epoch 8/100\n",
      "39/39 - 1s - loss: 1.2153e-04 - accuracy: 1.0000 - val_loss: 1.3435 - val_accuracy: 0.7505\n",
      "Epoch 9/100\n",
      "39/39 - 1s - loss: 9.5410e-05 - accuracy: 1.0000 - val_loss: 1.3820 - val_accuracy: 0.7524\n",
      "Epoch 10/100\n",
      "39/39 - 1s - loss: 7.7744e-05 - accuracy: 1.0000 - val_loss: 1.4165 - val_accuracy: 0.7486\n",
      "Epoch 11/100\n",
      "39/39 - 1s - loss: 6.4927e-05 - accuracy: 1.0000 - val_loss: 1.4462 - val_accuracy: 0.7467\n",
      "Epoch 12/100\n",
      "39/39 - 1s - loss: 5.5594e-05 - accuracy: 1.0000 - val_loss: 1.4747 - val_accuracy: 0.7486\n",
      "Epoch 13/100\n",
      "39/39 - 1s - loss: 4.8147e-05 - accuracy: 1.0000 - val_loss: 1.4997 - val_accuracy: 0.7486\n",
      "Epoch 14/100\n",
      "39/39 - 1s - loss: 4.2095e-05 - accuracy: 1.0000 - val_loss: 1.5248 - val_accuracy: 0.7486\n",
      "Epoch 15/100\n",
      "39/39 - 1s - loss: 3.7185e-05 - accuracy: 1.0000 - val_loss: 1.5465 - val_accuracy: 0.7467\n",
      "Epoch 16/100\n",
      "39/39 - 1s - loss: 3.3201e-05 - accuracy: 1.0000 - val_loss: 1.5681 - val_accuracy: 0.7467\n",
      "Epoch 17/100\n",
      "39/39 - 1s - loss: 2.9774e-05 - accuracy: 1.0000 - val_loss: 1.5871 - val_accuracy: 0.7467\n",
      "Epoch 18/100\n",
      "39/39 - 1s - loss: 2.6913e-05 - accuracy: 1.0000 - val_loss: 1.6060 - val_accuracy: 0.7467\n",
      "Epoch 19/100\n",
      "39/39 - 1s - loss: 2.4342e-05 - accuracy: 1.0000 - val_loss: 1.6240 - val_accuracy: 0.7467\n",
      "Epoch 20/100\n",
      "39/39 - 1s - loss: 2.2179e-05 - accuracy: 1.0000 - val_loss: 1.6409 - val_accuracy: 0.7467\n",
      "Epoch 21/100\n",
      "39/39 - 1s - loss: 2.0354e-05 - accuracy: 1.0000 - val_loss: 1.6570 - val_accuracy: 0.7467\n",
      "Epoch 22/100\n",
      "39/39 - 2s - loss: 1.8725e-05 - accuracy: 1.0000 - val_loss: 1.6728 - val_accuracy: 0.7448\n",
      "Epoch 23/100\n",
      "39/39 - 2s - loss: 1.7239e-05 - accuracy: 1.0000 - val_loss: 1.6872 - val_accuracy: 0.7448\n",
      "Epoch 24/100\n",
      "39/39 - 2s - loss: 1.5992e-05 - accuracy: 1.0000 - val_loss: 1.7027 - val_accuracy: 0.7448\n",
      "Epoch 25/100\n",
      "39/39 - 1s - loss: 1.4832e-05 - accuracy: 1.0000 - val_loss: 1.7163 - val_accuracy: 0.7448\n",
      "Epoch 26/100\n",
      "39/39 - 1s - loss: 1.3896e-05 - accuracy: 1.0000 - val_loss: 1.7291 - val_accuracy: 0.7448\n",
      "Epoch 27/100\n",
      "39/39 - 1s - loss: 1.2790e-05 - accuracy: 1.0000 - val_loss: 1.7426 - val_accuracy: 0.7429\n",
      "Epoch 28/100\n",
      "39/39 - 2s - loss: 1.1936e-05 - accuracy: 1.0000 - val_loss: 1.7553 - val_accuracy: 0.7429\n",
      "Epoch 29/100\n",
      "39/39 - 1s - loss: 1.1141e-05 - accuracy: 1.0000 - val_loss: 1.7683 - val_accuracy: 0.7429\n",
      "Epoch 30/100\n",
      "39/39 - 1s - loss: 1.0349e-05 - accuracy: 1.0000 - val_loss: 1.7808 - val_accuracy: 0.7429\n",
      "Epoch 31/100\n",
      "39/39 - 1s - loss: 9.6291e-06 - accuracy: 1.0000 - val_loss: 1.7938 - val_accuracy: 0.7410\n",
      "Epoch 32/100\n",
      "39/39 - 1s - loss: 8.9281e-06 - accuracy: 1.0000 - val_loss: 1.8071 - val_accuracy: 0.7410\n",
      "Epoch 33/100\n",
      "39/39 - 1s - loss: 8.2853e-06 - accuracy: 1.0000 - val_loss: 1.8196 - val_accuracy: 0.7410\n",
      "Epoch 34/100\n",
      "39/39 - 1s - loss: 7.7027e-06 - accuracy: 1.0000 - val_loss: 1.8326 - val_accuracy: 0.7410\n",
      "Epoch 35/100\n",
      "39/39 - 1s - loss: 7.1165e-06 - accuracy: 1.0000 - val_loss: 1.8456 - val_accuracy: 0.7410\n",
      "Epoch 36/100\n",
      "39/39 - 1s - loss: 6.5660e-06 - accuracy: 1.0000 - val_loss: 1.8594 - val_accuracy: 0.7410\n",
      "Epoch 37/100\n",
      "39/39 - 1s - loss: 6.0780e-06 - accuracy: 1.0000 - val_loss: 1.8727 - val_accuracy: 0.7410\n",
      "Epoch 38/100\n",
      "39/39 - 1s - loss: 5.5924e-06 - accuracy: 1.0000 - val_loss: 1.8862 - val_accuracy: 0.7410\n",
      "Epoch 39/100\n",
      "39/39 - 1s - loss: 5.1597e-06 - accuracy: 1.0000 - val_loss: 1.9001 - val_accuracy: 0.7410\n",
      "Epoch 40/100\n",
      "39/39 - 1s - loss: 4.7836e-06 - accuracy: 1.0000 - val_loss: 1.9130 - val_accuracy: 0.7410\n",
      "Epoch 41/100\n",
      "39/39 - 1s - loss: 4.4518e-06 - accuracy: 1.0000 - val_loss: 1.9264 - val_accuracy: 0.7410\n",
      "Epoch 42/100\n",
      "39/39 - 1s - loss: 4.1451e-06 - accuracy: 1.0000 - val_loss: 1.9392 - val_accuracy: 0.7390\n",
      "Epoch 43/100\n",
      "39/39 - 1s - loss: 3.8978e-06 - accuracy: 1.0000 - val_loss: 1.9521 - val_accuracy: 0.7390\n",
      "Epoch 44/100\n",
      "39/39 - 1s - loss: 3.6362e-06 - accuracy: 1.0000 - val_loss: 1.9644 - val_accuracy: 0.7390\n",
      "Epoch 45/100\n",
      "39/39 - 1s - loss: 3.4091e-06 - accuracy: 1.0000 - val_loss: 1.9780 - val_accuracy: 0.7371\n",
      "Epoch 46/100\n",
      "39/39 - 1s - loss: 3.1942e-06 - accuracy: 1.0000 - val_loss: 1.9900 - val_accuracy: 0.7352\n",
      "Epoch 47/100\n",
      "39/39 - 1s - loss: 3.0124e-06 - accuracy: 1.0000 - val_loss: 2.0017 - val_accuracy: 0.7352\n",
      "Epoch 48/100\n",
      "39/39 - 1s - loss: 2.8469e-06 - accuracy: 1.0000 - val_loss: 2.0129 - val_accuracy: 0.7352\n",
      "Epoch 49/100\n",
      "39/39 - 1s - loss: 2.6990e-06 - accuracy: 1.0000 - val_loss: 2.0243 - val_accuracy: 0.7352\n",
      "Epoch 50/100\n",
      "39/39 - 1s - loss: 2.5552e-06 - accuracy: 1.0000 - val_loss: 2.0350 - val_accuracy: 0.7371\n",
      "Epoch 51/100\n",
      "39/39 - 1s - loss: 2.4312e-06 - accuracy: 1.0000 - val_loss: 2.0451 - val_accuracy: 0.7371\n",
      "Epoch 52/100\n",
      "39/39 - 1s - loss: 2.3140e-06 - accuracy: 1.0000 - val_loss: 2.0555 - val_accuracy: 0.7371\n",
      "Epoch 53/100\n",
      "39/39 - 1s - loss: 2.2117e-06 - accuracy: 1.0000 - val_loss: 2.0656 - val_accuracy: 0.7371\n",
      "Epoch 54/100\n",
      "39/39 - 1s - loss: 2.1044e-06 - accuracy: 1.0000 - val_loss: 2.0754 - val_accuracy: 0.7371\n",
      "Epoch 55/100\n",
      "39/39 - 1s - loss: 2.0123e-06 - accuracy: 1.0000 - val_loss: 2.0849 - val_accuracy: 0.7371\n",
      "Epoch 56/100\n",
      "39/39 - 1s - loss: 1.9228e-06 - accuracy: 1.0000 - val_loss: 2.0946 - val_accuracy: 0.7371\n",
      "Epoch 57/100\n",
      "39/39 - 1s - loss: 1.8420e-06 - accuracy: 1.0000 - val_loss: 2.1035 - val_accuracy: 0.7390\n",
      "Epoch 58/100\n",
      "39/39 - 1s - loss: 1.7585e-06 - accuracy: 1.0000 - val_loss: 2.1133 - val_accuracy: 0.7410\n",
      "Epoch 59/100\n",
      "39/39 - 1s - loss: 1.6864e-06 - accuracy: 1.0000 - val_loss: 2.1221 - val_accuracy: 0.7410\n",
      "Epoch 60/100\n",
      "39/39 - 1s - loss: 1.6146e-06 - accuracy: 1.0000 - val_loss: 2.1315 - val_accuracy: 0.7410\n",
      "Epoch 61/100\n",
      "39/39 - 1s - loss: 1.5506e-06 - accuracy: 1.0000 - val_loss: 2.1402 - val_accuracy: 0.7410\n",
      "Epoch 62/100\n",
      "39/39 - 1s - loss: 1.4919e-06 - accuracy: 1.0000 - val_loss: 2.1485 - val_accuracy: 0.7410\n",
      "Epoch 63/100\n",
      "39/39 - 1s - loss: 1.4338e-06 - accuracy: 1.0000 - val_loss: 2.1567 - val_accuracy: 0.7410\n",
      "Epoch 64/100\n",
      "39/39 - 1s - loss: 1.3829e-06 - accuracy: 1.0000 - val_loss: 2.1649 - val_accuracy: 0.7410\n",
      "Epoch 65/100\n",
      "39/39 - 1s - loss: 1.3295e-06 - accuracy: 1.0000 - val_loss: 2.1732 - val_accuracy: 0.7410\n",
      "Epoch 66/100\n",
      "39/39 - 1s - loss: 1.2813e-06 - accuracy: 1.0000 - val_loss: 2.1816 - val_accuracy: 0.7410\n",
      "Epoch 67/100\n",
      "39/39 - 1s - loss: 1.2320e-06 - accuracy: 1.0000 - val_loss: 2.1894 - val_accuracy: 0.7410\n",
      "Epoch 68/100\n",
      "39/39 - 1s - loss: 1.1893e-06 - accuracy: 1.0000 - val_loss: 2.1974 - val_accuracy: 0.7410\n",
      "Epoch 69/100\n",
      "39/39 - 1s - loss: 1.1505e-06 - accuracy: 1.0000 - val_loss: 2.2048 - val_accuracy: 0.7410\n",
      "Epoch 70/100\n",
      "39/39 - 1s - loss: 1.1048e-06 - accuracy: 1.0000 - val_loss: 2.2123 - val_accuracy: 0.7410\n",
      "Epoch 71/100\n",
      "39/39 - 1s - loss: 1.0744e-06 - accuracy: 1.0000 - val_loss: 2.2202 - val_accuracy: 0.7410\n"
     ]
    },
    {
     "name": "stdout",
     "output_type": "stream",
     "text": [
      "Epoch 72/100\n",
      "39/39 - 1s - loss: 1.0291e-06 - accuracy: 1.0000 - val_loss: 2.2274 - val_accuracy: 0.7410\n",
      "Epoch 73/100\n",
      "39/39 - 1s - loss: 9.9746e-07 - accuracy: 1.0000 - val_loss: 2.2347 - val_accuracy: 0.7410\n",
      "Epoch 74/100\n",
      "39/39 - 1s - loss: 9.6332e-07 - accuracy: 1.0000 - val_loss: 2.2419 - val_accuracy: 0.7410\n",
      "Epoch 75/100\n",
      "39/39 - 1s - loss: 9.3181e-07 - accuracy: 1.0000 - val_loss: 2.2488 - val_accuracy: 0.7410\n",
      "Epoch 76/100\n",
      "39/39 - 1s - loss: 9.0245e-07 - accuracy: 1.0000 - val_loss: 2.2560 - val_accuracy: 0.7410\n",
      "Epoch 77/100\n",
      "39/39 - 1s - loss: 8.7572e-07 - accuracy: 1.0000 - val_loss: 2.2630 - val_accuracy: 0.7410\n",
      "Epoch 78/100\n",
      "39/39 - 1s - loss: 8.4538e-07 - accuracy: 1.0000 - val_loss: 2.2702 - val_accuracy: 0.7410\n",
      "Epoch 79/100\n",
      "39/39 - 1s - loss: 8.1738e-07 - accuracy: 1.0000 - val_loss: 2.2778 - val_accuracy: 0.7410\n",
      "Epoch 80/100\n",
      "39/39 - 1s - loss: 7.8851e-07 - accuracy: 1.0000 - val_loss: 2.2843 - val_accuracy: 0.7410\n",
      "Epoch 81/100\n",
      "39/39 - 1s - loss: 7.6519e-07 - accuracy: 1.0000 - val_loss: 2.2911 - val_accuracy: 0.7429\n",
      "Epoch 82/100\n",
      "39/39 - 1s - loss: 7.4295e-07 - accuracy: 1.0000 - val_loss: 2.2976 - val_accuracy: 0.7429\n",
      "Epoch 83/100\n",
      "39/39 - 1s - loss: 7.1876e-07 - accuracy: 1.0000 - val_loss: 2.3038 - val_accuracy: 0.7410\n",
      "Epoch 84/100\n",
      "39/39 - 1s - loss: 7.0052e-07 - accuracy: 1.0000 - val_loss: 2.3108 - val_accuracy: 0.7429\n",
      "Epoch 85/100\n",
      "39/39 - 1s - loss: 6.7457e-07 - accuracy: 1.0000 - val_loss: 2.3172 - val_accuracy: 0.7429\n",
      "Epoch 86/100\n",
      "39/39 - 1s - loss: 6.5584e-07 - accuracy: 1.0000 - val_loss: 2.3236 - val_accuracy: 0.7429\n",
      "Epoch 87/100\n",
      "39/39 - 1s - loss: 6.3623e-07 - accuracy: 1.0000 - val_loss: 2.3299 - val_accuracy: 0.7429\n",
      "Epoch 88/100\n",
      "39/39 - 1s - loss: 6.1614e-07 - accuracy: 1.0000 - val_loss: 2.3361 - val_accuracy: 0.7429\n",
      "Epoch 89/100\n",
      "39/39 - 1s - loss: 5.9877e-07 - accuracy: 1.0000 - val_loss: 2.3425 - val_accuracy: 0.7429\n",
      "Epoch 90/100\n",
      "39/39 - 1s - loss: 5.8092e-07 - accuracy: 1.0000 - val_loss: 2.3483 - val_accuracy: 0.7429\n",
      "Epoch 91/100\n",
      "39/39 - 1s - loss: 5.6424e-07 - accuracy: 1.0000 - val_loss: 2.3545 - val_accuracy: 0.7429\n",
      "Epoch 92/100\n",
      "39/39 - 1s - loss: 5.4951e-07 - accuracy: 1.0000 - val_loss: 2.3606 - val_accuracy: 0.7429\n",
      "Epoch 93/100\n",
      "39/39 - 1s - loss: 5.3322e-07 - accuracy: 1.0000 - val_loss: 2.3668 - val_accuracy: 0.7429\n",
      "Epoch 94/100\n",
      "39/39 - 1s - loss: 5.2034e-07 - accuracy: 1.0000 - val_loss: 2.3726 - val_accuracy: 0.7429\n",
      "Epoch 95/100\n",
      "39/39 - 1s - loss: 5.0678e-07 - accuracy: 1.0000 - val_loss: 2.3784 - val_accuracy: 0.7429\n",
      "Epoch 96/100\n",
      "39/39 - 1s - loss: 4.9205e-07 - accuracy: 1.0000 - val_loss: 2.3845 - val_accuracy: 0.7429\n",
      "Epoch 97/100\n",
      "39/39 - 1s - loss: 4.7703e-07 - accuracy: 1.0000 - val_loss: 2.3905 - val_accuracy: 0.7429\n",
      "Epoch 98/100\n",
      "39/39 - 1s - loss: 4.6415e-07 - accuracy: 1.0000 - val_loss: 2.3964 - val_accuracy: 0.7429\n",
      "Epoch 99/100\n",
      "39/39 - 1s - loss: 4.5225e-07 - accuracy: 1.0000 - val_loss: 2.4017 - val_accuracy: 0.7429\n",
      "Epoch 100/100\n",
      "39/39 - 1s - loss: 4.3889e-07 - accuracy: 1.0000 - val_loss: 2.4077 - val_accuracy: 0.7429\n"
     ]
    }
   ],
   "source": [
    "# Criando a rede LSTM (Long Short Term Memory)\n",
    "\n",
    "hidden_size=64\n",
    "model = tf.keras.Sequential()\n",
    "model.add(tf.keras.layers.Embedding(vocab_size, embedding_dim))\n",
    "#model.add(tf.keras.layers.LSTM(embedding_dim, dropout = 0.25 , recurrent_dropout=0.25))\n",
    "model.add(tf.keras.layers.Bidirectional(tf.keras.layers.LSTM(embedding_dim)))\n",
    "model.add(tf.keras.layers.Dense(64, activation='relu'))\n",
    "model.add(tf.keras.layers.Dense(3, activation='softmax'))\n",
    "\n",
    "model.summary()\n",
    "#es = EarlyStopping(monitor='val_loss', mode='min', verbose=1)\n",
    "# Compilando a LSTM\n",
    "model.compile(loss='sparse_categorical_crossentropy', optimizer='adam', metrics=['accuracy'])\n",
    "\n",
    "# Treinamento da LSTM\n",
    "num_epochs = 100\n",
    "history = model.fit(train_padded, training_label_seq, epochs=num_epochs, validation_data=(validation_padded, validation_label_seq), verbose=2)"
   ]
  },
  {
   "cell_type": "code",
   "execution_count": 19,
   "metadata": {
    "colab": {
     "base_uri": "https://localhost:8080/",
     "height": 629
    },
    "colab_type": "code",
    "id": "tPxVfIYSzD2j",
    "outputId": "f15c6b4f-8645-4d5f-8aeb-d695e59f7a0e"
   },
   "outputs": [
    {
     "name": "stdout",
     "output_type": "stream",
     "text": [
      "Model: \"sequential_1\"\n",
      "_________________________________________________________________\n",
      "Layer (type)                 Output Shape              Param #   \n",
      "=================================================================\n",
      "embedding_1 (Embedding)      (None, 35, 64)            3200000   \n",
      "_________________________________________________________________\n",
      "simple_rnn (SimpleRNN)       (None, 64)                8256      \n",
      "_________________________________________________________________\n",
      "dense_2 (Dense)              (None, 64)                4160      \n",
      "_________________________________________________________________\n",
      "dense_3 (Dense)              (None, 3)                 195       \n",
      "=================================================================\n",
      "Total params: 3,212,611\n",
      "Trainable params: 3,212,611\n",
      "Non-trainable params: 0\n",
      "_________________________________________________________________\n",
      "Epoch 1/100\n",
      "39/39 - 1s - loss: 0.9241 - accuracy: 0.5745 - val_loss: 0.9190 - val_accuracy: 0.5848\n",
      "Epoch 2/100\n",
      "39/39 - 1s - loss: 0.5206 - accuracy: 0.8142 - val_loss: 1.0912 - val_accuracy: 0.5619\n",
      "Epoch 3/100\n",
      "39/39 - 1s - loss: 0.0899 - accuracy: 0.9787 - val_loss: 1.3961 - val_accuracy: 0.4971\n",
      "Epoch 4/100\n",
      "39/39 - 1s - loss: 0.0086 - accuracy: 1.0000 - val_loss: 1.6415 - val_accuracy: 0.5162\n",
      "Epoch 5/100\n",
      "39/39 - 1s - loss: 0.0025 - accuracy: 1.0000 - val_loss: 1.8103 - val_accuracy: 0.5143\n",
      "Epoch 6/100\n",
      "39/39 - 1s - loss: 0.0015 - accuracy: 1.0000 - val_loss: 1.8937 - val_accuracy: 0.5143\n",
      "Epoch 7/100\n",
      "39/39 - 1s - loss: 0.0010 - accuracy: 1.0000 - val_loss: 1.9710 - val_accuracy: 0.5105\n",
      "Epoch 8/100\n",
      "39/39 - 1s - loss: 7.7998e-04 - accuracy: 1.0000 - val_loss: 2.0312 - val_accuracy: 0.5086\n",
      "Epoch 9/100\n",
      "39/39 - 1s - loss: 6.1608e-04 - accuracy: 1.0000 - val_loss: 2.0904 - val_accuracy: 0.5086\n",
      "Epoch 10/100\n",
      "39/39 - 1s - loss: 4.9974e-04 - accuracy: 1.0000 - val_loss: 2.1450 - val_accuracy: 0.5048\n",
      "Epoch 11/100\n",
      "39/39 - 1s - loss: 4.1566e-04 - accuracy: 1.0000 - val_loss: 2.1903 - val_accuracy: 0.5029\n",
      "Epoch 12/100\n",
      "39/39 - 1s - loss: 3.5226e-04 - accuracy: 1.0000 - val_loss: 2.2330 - val_accuracy: 0.5029\n",
      "Epoch 13/100\n",
      "39/39 - 1s - loss: 3.0252e-04 - accuracy: 1.0000 - val_loss: 2.2705 - val_accuracy: 0.5029\n",
      "Epoch 14/100\n",
      "39/39 - 1s - loss: 2.6299e-04 - accuracy: 1.0000 - val_loss: 2.3081 - val_accuracy: 0.5029\n",
      "Epoch 15/100\n",
      "39/39 - 1s - loss: 2.3013e-04 - accuracy: 1.0000 - val_loss: 2.3441 - val_accuracy: 0.5029\n",
      "Epoch 16/100\n",
      "39/39 - 1s - loss: 2.0346e-04 - accuracy: 1.0000 - val_loss: 2.3764 - val_accuracy: 0.5010\n",
      "Epoch 17/100\n",
      "39/39 - 1s - loss: 1.8119e-04 - accuracy: 1.0000 - val_loss: 2.4074 - val_accuracy: 0.5010\n",
      "Epoch 18/100\n",
      "39/39 - 1s - loss: 1.6261e-04 - accuracy: 1.0000 - val_loss: 2.4353 - val_accuracy: 0.4990\n",
      "Epoch 19/100\n",
      "39/39 - 1s - loss: 1.4657e-04 - accuracy: 1.0000 - val_loss: 2.4646 - val_accuracy: 0.4990\n",
      "Epoch 20/100\n",
      "39/39 - 1s - loss: 1.3283e-04 - accuracy: 1.0000 - val_loss: 2.4888 - val_accuracy: 0.5029\n",
      "Epoch 21/100\n",
      "39/39 - 1s - loss: 1.2091e-04 - accuracy: 1.0000 - val_loss: 2.5147 - val_accuracy: 0.5029\n",
      "Epoch 22/100\n",
      "39/39 - 1s - loss: 1.1050e-04 - accuracy: 1.0000 - val_loss: 2.5387 - val_accuracy: 0.5010\n",
      "Epoch 23/100\n",
      "39/39 - 1s - loss: 1.0132e-04 - accuracy: 1.0000 - val_loss: 2.5615 - val_accuracy: 0.5010\n",
      "Epoch 24/100\n",
      "39/39 - 1s - loss: 9.3240e-05 - accuracy: 1.0000 - val_loss: 2.5847 - val_accuracy: 0.5010\n",
      "Epoch 25/100\n",
      "39/39 - 1s - loss: 8.6119e-05 - accuracy: 1.0000 - val_loss: 2.6079 - val_accuracy: 0.5010\n",
      "Epoch 26/100\n",
      "39/39 - 1s - loss: 7.9772e-05 - accuracy: 1.0000 - val_loss: 2.6284 - val_accuracy: 0.5010\n",
      "Epoch 27/100\n",
      "39/39 - 1s - loss: 7.4029e-05 - accuracy: 1.0000 - val_loss: 2.6484 - val_accuracy: 0.4990\n",
      "Epoch 28/100\n",
      "39/39 - 1s - loss: 6.8944e-05 - accuracy: 1.0000 - val_loss: 2.6681 - val_accuracy: 0.4990\n",
      "Epoch 29/100\n",
      "39/39 - 1s - loss: 6.4336e-05 - accuracy: 1.0000 - val_loss: 2.6875 - val_accuracy: 0.4990\n",
      "Epoch 30/100\n",
      "39/39 - 1s - loss: 6.0127e-05 - accuracy: 1.0000 - val_loss: 2.7058 - val_accuracy: 0.4990\n",
      "Epoch 31/100\n",
      "39/39 - 1s - loss: 5.6311e-05 - accuracy: 1.0000 - val_loss: 2.7258 - val_accuracy: 0.4971\n",
      "Epoch 32/100\n",
      "39/39 - 1s - loss: 5.2838e-05 - accuracy: 1.0000 - val_loss: 2.7425 - val_accuracy: 0.4971\n",
      "Epoch 33/100\n",
      "39/39 - 1s - loss: 4.9655e-05 - accuracy: 1.0000 - val_loss: 2.7593 - val_accuracy: 0.4952\n",
      "Epoch 34/100\n",
      "39/39 - 1s - loss: 4.6788e-05 - accuracy: 1.0000 - val_loss: 2.7764 - val_accuracy: 0.4971\n",
      "Epoch 35/100\n",
      "39/39 - 1s - loss: 4.4090e-05 - accuracy: 1.0000 - val_loss: 2.7919 - val_accuracy: 0.4952\n",
      "Epoch 36/100\n",
      "39/39 - 1s - loss: 4.1611e-05 - accuracy: 1.0000 - val_loss: 2.8079 - val_accuracy: 0.4971\n",
      "Epoch 37/100\n",
      "39/39 - 1s - loss: 3.9349e-05 - accuracy: 1.0000 - val_loss: 2.8226 - val_accuracy: 0.4990\n",
      "Epoch 38/100\n",
      "39/39 - 1s - loss: 3.7241e-05 - accuracy: 1.0000 - val_loss: 2.8388 - val_accuracy: 0.4990\n",
      "Epoch 39/100\n",
      "39/39 - 1s - loss: 3.5305e-05 - accuracy: 1.0000 - val_loss: 2.8535 - val_accuracy: 0.4971\n",
      "Epoch 40/100\n",
      "39/39 - 1s - loss: 3.3516e-05 - accuracy: 1.0000 - val_loss: 2.8674 - val_accuracy: 0.4971\n",
      "Epoch 41/100\n",
      "39/39 - 1s - loss: 3.1839e-05 - accuracy: 1.0000 - val_loss: 2.8823 - val_accuracy: 0.4971\n",
      "Epoch 42/100\n",
      "39/39 - 1s - loss: 3.0275e-05 - accuracy: 1.0000 - val_loss: 2.8952 - val_accuracy: 0.4971\n",
      "Epoch 43/100\n",
      "39/39 - 1s - loss: 2.8817e-05 - accuracy: 1.0000 - val_loss: 2.9107 - val_accuracy: 0.4971\n",
      "Epoch 44/100\n",
      "39/39 - 1s - loss: 2.7438e-05 - accuracy: 1.0000 - val_loss: 2.9238 - val_accuracy: 0.4971\n",
      "Epoch 45/100\n",
      "39/39 - 1s - loss: 2.6169e-05 - accuracy: 1.0000 - val_loss: 2.9384 - val_accuracy: 0.4990\n",
      "Epoch 46/100\n",
      "39/39 - 1s - loss: 2.4981e-05 - accuracy: 1.0000 - val_loss: 2.9517 - val_accuracy: 0.4990\n",
      "Epoch 47/100\n",
      "39/39 - 1s - loss: 2.3865e-05 - accuracy: 1.0000 - val_loss: 2.9640 - val_accuracy: 0.4990\n",
      "Epoch 48/100\n",
      "39/39 - 1s - loss: 2.2819e-05 - accuracy: 1.0000 - val_loss: 2.9772 - val_accuracy: 0.4990\n",
      "Epoch 49/100\n",
      "39/39 - 1s - loss: 2.1830e-05 - accuracy: 1.0000 - val_loss: 2.9889 - val_accuracy: 0.4990\n",
      "Epoch 50/100\n",
      "39/39 - 1s - loss: 2.0897e-05 - accuracy: 1.0000 - val_loss: 3.0014 - val_accuracy: 0.4990\n",
      "Epoch 51/100\n",
      "39/39 - 1s - loss: 2.0008e-05 - accuracy: 1.0000 - val_loss: 3.0138 - val_accuracy: 0.4990\n",
      "Epoch 52/100\n",
      "39/39 - 1s - loss: 1.9181e-05 - accuracy: 1.0000 - val_loss: 3.0253 - val_accuracy: 0.4990\n",
      "Epoch 53/100\n",
      "39/39 - 1s - loss: 1.8396e-05 - accuracy: 1.0000 - val_loss: 3.0373 - val_accuracy: 0.4990\n",
      "Epoch 54/100\n",
      "39/39 - 1s - loss: 1.7646e-05 - accuracy: 1.0000 - val_loss: 3.0493 - val_accuracy: 0.5010\n",
      "Epoch 55/100\n",
      "39/39 - 1s - loss: 1.6947e-05 - accuracy: 1.0000 - val_loss: 3.0604 - val_accuracy: 0.5010\n",
      "Epoch 56/100\n",
      "39/39 - 1s - loss: 1.6280e-05 - accuracy: 1.0000 - val_loss: 3.0725 - val_accuracy: 0.5010\n",
      "Epoch 57/100\n",
      "39/39 - 1s - loss: 1.5654e-05 - accuracy: 1.0000 - val_loss: 3.0829 - val_accuracy: 0.5010\n",
      "Epoch 58/100\n",
      "39/39 - 1s - loss: 1.5051e-05 - accuracy: 1.0000 - val_loss: 3.0945 - val_accuracy: 0.5010\n",
      "Epoch 59/100\n",
      "39/39 - 1s - loss: 1.4479e-05 - accuracy: 1.0000 - val_loss: 3.1054 - val_accuracy: 0.5010\n",
      "Epoch 60/100\n",
      "39/39 - 1s - loss: 1.3945e-05 - accuracy: 1.0000 - val_loss: 3.1154 - val_accuracy: 0.5010\n",
      "Epoch 61/100\n",
      "39/39 - 1s - loss: 1.3424e-05 - accuracy: 1.0000 - val_loss: 3.1277 - val_accuracy: 0.5010\n",
      "Epoch 62/100\n",
      "39/39 - 1s - loss: 1.2929e-05 - accuracy: 1.0000 - val_loss: 3.1381 - val_accuracy: 0.4990\n",
      "Epoch 63/100\n",
      "39/39 - 1s - loss: 1.2453e-05 - accuracy: 1.0000 - val_loss: 3.1466 - val_accuracy: 0.4990\n",
      "Epoch 64/100\n",
      "39/39 - 1s - loss: 1.2004e-05 - accuracy: 1.0000 - val_loss: 3.1576 - val_accuracy: 0.4990\n",
      "Epoch 65/100\n",
      "39/39 - 1s - loss: 1.1582e-05 - accuracy: 1.0000 - val_loss: 3.1680 - val_accuracy: 0.4990\n",
      "Epoch 66/100\n",
      "39/39 - 1s - loss: 1.1175e-05 - accuracy: 1.0000 - val_loss: 3.1785 - val_accuracy: 0.5010\n",
      "Epoch 67/100\n",
      "39/39 - 1s - loss: 1.0788e-05 - accuracy: 1.0000 - val_loss: 3.1875 - val_accuracy: 0.5010\n",
      "Epoch 68/100\n",
      "39/39 - 1s - loss: 1.0418e-05 - accuracy: 1.0000 - val_loss: 3.1982 - val_accuracy: 0.5010\n",
      "Epoch 69/100\n",
      "39/39 - 1s - loss: 1.0064e-05 - accuracy: 1.0000 - val_loss: 3.2073 - val_accuracy: 0.5010\n",
      "Epoch 70/100\n",
      "39/39 - 1s - loss: 9.7288e-06 - accuracy: 1.0000 - val_loss: 3.2173 - val_accuracy: 0.5010\n",
      "Epoch 71/100\n",
      "39/39 - 1s - loss: 9.4017e-06 - accuracy: 1.0000 - val_loss: 3.2276 - val_accuracy: 0.4990\n"
     ]
    },
    {
     "name": "stdout",
     "output_type": "stream",
     "text": [
      "Epoch 72/100\n",
      "39/39 - 1s - loss: 9.0894e-06 - accuracy: 1.0000 - val_loss: 3.2383 - val_accuracy: 0.4990\n",
      "Epoch 73/100\n",
      "39/39 - 1s - loss: 8.7888e-06 - accuracy: 1.0000 - val_loss: 3.2473 - val_accuracy: 0.4990\n",
      "Epoch 74/100\n",
      "39/39 - 1s - loss: 8.5035e-06 - accuracy: 1.0000 - val_loss: 3.2575 - val_accuracy: 0.4990\n",
      "Epoch 75/100\n",
      "39/39 - 1s - loss: 8.2312e-06 - accuracy: 1.0000 - val_loss: 3.2662 - val_accuracy: 0.4990\n",
      "Epoch 76/100\n",
      "39/39 - 1s - loss: 7.9678e-06 - accuracy: 1.0000 - val_loss: 3.2752 - val_accuracy: 0.4990\n",
      "Epoch 77/100\n",
      "39/39 - 1s - loss: 7.7083e-06 - accuracy: 1.0000 - val_loss: 3.2839 - val_accuracy: 0.4990\n",
      "Epoch 78/100\n",
      "39/39 - 1s - loss: 7.4649e-06 - accuracy: 1.0000 - val_loss: 3.2928 - val_accuracy: 0.4990\n",
      "Epoch 79/100\n",
      "39/39 - 1s - loss: 7.2314e-06 - accuracy: 1.0000 - val_loss: 3.3015 - val_accuracy: 0.5010\n",
      "Epoch 80/100\n",
      "39/39 - 1s - loss: 7.0072e-06 - accuracy: 1.0000 - val_loss: 3.3105 - val_accuracy: 0.5010\n",
      "Epoch 81/100\n",
      "39/39 - 1s - loss: 6.7935e-06 - accuracy: 1.0000 - val_loss: 3.3194 - val_accuracy: 0.4990\n",
      "Epoch 82/100\n",
      "39/39 - 1s - loss: 6.5813e-06 - accuracy: 1.0000 - val_loss: 3.3283 - val_accuracy: 0.4990\n",
      "Epoch 83/100\n",
      "39/39 - 1s - loss: 6.3836e-06 - accuracy: 1.0000 - val_loss: 3.3367 - val_accuracy: 0.4990\n",
      "Epoch 84/100\n",
      "39/39 - 1s - loss: 6.1894e-06 - accuracy: 1.0000 - val_loss: 3.3462 - val_accuracy: 0.4990\n",
      "Epoch 85/100\n",
      "39/39 - 1s - loss: 6.0030e-06 - accuracy: 1.0000 - val_loss: 3.3533 - val_accuracy: 0.4990\n",
      "Epoch 86/100\n",
      "39/39 - 1s - loss: 5.8242e-06 - accuracy: 1.0000 - val_loss: 3.3623 - val_accuracy: 0.4990\n",
      "Epoch 87/100\n",
      "39/39 - 1s - loss: 5.6534e-06 - accuracy: 1.0000 - val_loss: 3.3704 - val_accuracy: 0.4990\n",
      "Epoch 88/100\n",
      "39/39 - 1s - loss: 5.4844e-06 - accuracy: 1.0000 - val_loss: 3.3793 - val_accuracy: 0.4990\n",
      "Epoch 89/100\n",
      "39/39 - 1s - loss: 5.3260e-06 - accuracy: 1.0000 - val_loss: 3.3879 - val_accuracy: 0.4990\n",
      "Epoch 90/100\n",
      "39/39 - 1s - loss: 5.1676e-06 - accuracy: 1.0000 - val_loss: 3.3961 - val_accuracy: 0.4990\n",
      "Epoch 91/100\n",
      "39/39 - 1s - loss: 5.0182e-06 - accuracy: 1.0000 - val_loss: 3.4049 - val_accuracy: 0.4990\n",
      "Epoch 92/100\n",
      "39/39 - 1s - loss: 4.8764e-06 - accuracy: 1.0000 - val_loss: 3.4123 - val_accuracy: 0.4990\n",
      "Epoch 93/100\n",
      "39/39 - 1s - loss: 4.7352e-06 - accuracy: 1.0000 - val_loss: 3.4212 - val_accuracy: 0.4990\n",
      "Epoch 94/100\n",
      "39/39 - 1s - loss: 4.6028e-06 - accuracy: 1.0000 - val_loss: 3.4291 - val_accuracy: 0.4990\n",
      "Epoch 95/100\n",
      "39/39 - 1s - loss: 4.4703e-06 - accuracy: 1.0000 - val_loss: 3.4374 - val_accuracy: 0.4990\n",
      "Epoch 96/100\n",
      "39/39 - 1s - loss: 4.3440e-06 - accuracy: 1.0000 - val_loss: 3.4450 - val_accuracy: 0.4990\n",
      "Epoch 97/100\n",
      "39/39 - 1s - loss: 4.2200e-06 - accuracy: 1.0000 - val_loss: 3.4530 - val_accuracy: 0.4990\n",
      "Epoch 98/100\n",
      "39/39 - 1s - loss: 4.1021e-06 - accuracy: 1.0000 - val_loss: 3.4601 - val_accuracy: 0.4990\n",
      "Epoch 99/100\n",
      "39/39 - 1s - loss: 3.9871e-06 - accuracy: 1.0000 - val_loss: 3.4685 - val_accuracy: 0.4990\n",
      "Epoch 100/100\n",
      "39/39 - 1s - loss: 3.8758e-06 - accuracy: 1.0000 - val_loss: 3.4754 - val_accuracy: 0.4990\n"
     ]
    }
   ],
   "source": [
    "# Criando uma RNN (Recurrent Neural Network)\n",
    "\n",
    "model2 = tf.keras.Sequential()\n",
    "model2.add(tf.keras.layers.Embedding(input_dim=vocab_size, output_dim=64, input_length=max_length))\n",
    "\n",
    "# The output of SimpleRNN will be a 2D tensor of shape (batch_size, 128)\n",
    "model2.add(tf.keras.layers.SimpleRNN(units=64))\n",
    "model2.add(tf.keras.layers.Dense(64, activation='relu'))\n",
    "model2.add(tf.keras.layers.Dense(3, activation='softmax'))\n",
    "model2.summary() \n",
    "\n",
    "# Compilando a RNN\n",
    "#model.compile(optimizer='rmsprop', loss='binary_crossentropy', metrics=['acc'])\n",
    "model2.compile(loss='sparse_categorical_crossentropy', optimizer='adam', metrics=['accuracy'])\n",
    "\n",
    "# Treinamento da RNN\n",
    "history2 = model2.fit(train_padded, training_label_seq, batch_size=32, epochs=100, validation_data=(validation_padded, validation_label_seq), verbose=2)\n",
    "\n"
   ]
  },
  {
   "cell_type": "code",
   "execution_count": 25,
   "metadata": {
    "colab": {
     "base_uri": "https://localhost:8080/",
     "height": 542
    },
    "colab_type": "code",
    "id": "lA5tWjiAbOmn",
    "outputId": "ccfff88d-854c-495a-e781-3e4c13e7878d"
   },
   "outputs": [
    {
     "data": {
      "image/png": "[encoded data removed]",
      "text/plain": [
       "<Figure size 432x288 with 1 Axes>"
      ]
     },
     "metadata": {
      "needs_background": "light"
     },
     "output_type": "display_data"
    },
    {
     "data": {
      "image/png": "[encoded data removed]",
      "text/plain": [
       "<Figure size 432x288 with 1 Axes>"
      ]
     },
     "metadata": {
      "needs_background": "light"
     },
     "output_type": "display_data"
    },
    {
     "data": {
      "image/png": "[encoded data removed]",
      "text/plain": [
       "<Figure size 432x288 with 1 Axes>"
      ]
     },
     "metadata": {
      "needs_background": "light"
     },
     "output_type": "display_data"
    },
    {
     "data": {
      "image/png": "[encoded data removed]",
      "text/plain": [
       "<Figure size 432x288 with 1 Axes>"
      ]
     },
     "metadata": {
      "needs_background": "light"
     },
     "output_type": "display_data"
    }
   ],
   "source": [
    "# Imprime gráfico histórico do treinamento\n",
    "import matplotlib.pyplot as plt\n",
    "def plot_graphs(history, string):\n",
    "  plt.plot(history.history[string])\n",
    "  plt.plot(history.history['val_'+string])\n",
    "  plt.xlabel(\"Epochs\")\n",
    "  plt.ylabel(string)\n",
    "  plt.legend([string, 'val_'+string])\n",
    "  plt.show()\n",
    "  \n",
    "plot_graphs(history, \"accuracy\")\n",
    "plot_graphs(history, \"loss\")\n",
    "\n",
    "plot_graphs(history2, \"accuracy\")\n",
    "plot_graphs(history2, \"loss\")  "
   ]
  },
  {
   "cell_type": "code",
   "execution_count": 21,
   "metadata": {
    "colab": {
     "base_uri": "https://localhost:8080/",
     "height": 102
    },
    "colab_type": "code",
    "id": "ODeyBE44bVnT",
    "outputId": "db83ddc9-c296-4ee4-dca9-33921b1628e1"
   },
   "outputs": [
    {
     "name": "stdout",
     "output_type": "stream",
     "text": [
      "[[3.7199735e-12 1.0000000e+00 6.4117640e-09]] negativo\n",
      "Resultado na validacao:\n",
      "LSTM\n",
      "Test loss: 2.407686471939087\n",
      "Test accuracy: 0.7428571581840515\n",
      "RNN\n",
      "Test loss: 3.4754350185394287\n",
      "Test accuracy: 0.4990476071834564\n"
     ]
    }
   ],
   "source": [
    "# Testando uma frase\n",
    "\n",
    "txt = ['correção: cremer pode deixar o novo mercado. na nota enviada anteriormente, em vez do título controladores da cremer devem deixar o novo mercado, o correto é cremer deve deixar o novo mercado.']\n",
    "seq = tokenizer.texts_to_sequences(txt)\n",
    "padded = pad_sequences(seq, maxlen=max_length, padding=padding_type, truncating=trunc_type)\n",
    "pred = model.predict(padded)\n",
    "labels = ['positivo', 'negativo', 'neutro']\n",
    "print(pred, labels[np.argmax(pred)])\n",
    "\n",
    "print(\"Resultado na validacao:\")\n",
    "score=model.evaluate(validation_padded, validation_label_seq, verbose=0)\n",
    "score2=model2.evaluate(validation_padded, validation_label_seq, verbose=0)\n",
    "\n",
    "print('LSTM')\n",
    "print('Test loss:', score[0])\n",
    "print('Test accuracy:', score[1])\n",
    "\n",
    "print('RNN')\n",
    "print('Test loss:', score2[0])\n",
    "print('Test accuracy:', score2[1])\n"
   ]
  },
  {
   "cell_type": "code",
   "execution_count": 22,
   "metadata": {
    "colab": {},
    "colab_type": "code",
    "id": "-Lyitqlc2eIr"
   },
   "outputs": [],
   "source": [
    "# Plotar a matrix de confusão \n",
    "def plot_confusion_matrix(cm, classes,\n",
    "                          normalize=False,\n",
    "                          title=None,\n",
    "                          cmap=plt.cm.Blues):\n",
    "  plt.imshow(cm, interpolation = 'nearest',cmap=cmap)\n",
    "  plt.title(title)\n",
    "  plt.colorbar()\n",
    "  tick_marks = np.arange(len(classes))\n",
    "  plt.xticks(tick_marks, classes, rotation = 45)\n",
    "  plt.yticks(tick_marks, classes)\n",
    "  \n",
    "  if normalize:\n",
    "    cm = cm.astype('float')/cm.sum(axis=1)[:,np.newaxis]\n",
    "    print(\"Normalized confusion matrix\")\n",
    "  else:\n",
    "    print(\"Confusion matrix, without normalization\")\n",
    "  \n",
    "  thresh = cm.max()*5\n",
    "  for i, j in itertools.product(range(cm.shape[0]),range(cm.shape[1])):\n",
    "    plt.text(j, i, cm[i,j], horizontalalignment=\"center\", color=\"white\" if cm[i,j]>thresh else \"black\")\n",
    "   \n",
    "  plt.tight_layout()\n",
    "  plt.ylabel('True label')\n",
    "  plt.xlabel('Predicted label')"
   ]
  },
  {
   "cell_type": "code",
   "execution_count": 23,
   "metadata": {
    "colab": {
     "base_uri": "https://localhost:8080/",
     "height": 328
    },
    "colab_type": "code",
    "id": "JxYCvgOi16r2",
    "outputId": "d8cd1332-77a7-454d-e216-9e8de16bf6b6"
   },
   "outputs": [
    {
     "name": "stdout",
     "output_type": "stream",
     "text": [
      "Confusion matrix, without normalization\n",
      "\t  Negativo  Neutro     positivo \n",
      "F-Score\t [0.83774834 0.68221574 0.38834951]\n",
      "Precisão [0.85185185 0.65       0.41666667]\n",
      "Recall\t [0.82410423 0.71779141 0.36363636]\n"
     ]
    },
    {
     "data": {
      "image/png": "[encoded data removed]",
      "text/plain": [
       "<Figure size 432x288 with 2 Axes>"
      ]
     },
     "metadata": {
      "needs_background": "light"
     },
     "output_type": "display_data"
    }
   ],
   "source": [
    "# Preparar Matriz de Confusão LSTM\n",
    "import itertools\n",
    "import matplotlib\n",
    "from sklearn.metrics import confusion_matrix\n",
    "from sklearn.metrics import f1_score\n",
    "from sklearn.metrics import precision_score\n",
    "from sklearn.metrics import recall_score\n",
    "\n",
    "\n",
    "y_predict=np.argmax(model.predict(validation_padded), axis=-1)\n",
    "val=validation_label_seq.reshape(len(validation_label_seq))\n",
    "cm=confusion_matrix(val, y_predict)\n",
    "cm_plot_labels=['negativo','neutro', 'positivo']\n",
    "plot_confusion_matrix(cm, cm_plot_labels, title='Confusion matrix')\n",
    "fScore = f1_score (val, y_predict,average=None)\n",
    "precision = precision_score(val, y_predict,average=None)\n",
    "recall = recall_score(val, y_predict,average=None)\n",
    "print('\\t  Negativo', ' Neutro   ', ' positivo ')\n",
    "print('F-Score\\t',fScore)\n",
    "print('Precisão',precision)\n",
    "print('Recall\\t',recall)\n"
   ]
  },
  {
   "cell_type": "code",
   "execution_count": 24,
   "metadata": {
    "colab": {},
    "colab_type": "code",
    "id": "BPHJMg6Tuojm",
    "outputId": "5455ab22-5925-471a-a4c3-531eded5a8bf"
   },
   "outputs": [
    {
     "name": "stdout",
     "output_type": "stream",
     "text": [
      "Confusion matrix, without normalization\n",
      "\t  Negativo  Neutro     positivo \n",
      "F-Score\t [0.64102564 0.33220339 0.19847328]\n",
      "Precisão [0.63091483 0.37121212 0.17105263]\n",
      "Recall\t [0.6514658  0.3006135  0.23636364]\n"
     ]
    },
    {
     "data": {
      "image/png": "[encoded data removed]",
      "text/plain": [
       "<Figure size 432x288 with 2 Axes>"
      ]
     },
     "metadata": {
      "needs_background": "light"
     },
     "output_type": "display_data"
    }
   ],
   "source": [
    "# Preparar Matriz de Confusão RNN\n",
    "import itertools\n",
    "import matplotlib\n",
    "from sklearn.metrics import confusion_matrix\n",
    "from sklearn.metrics import f1_score\n",
    "from sklearn.metrics import precision_score\n",
    "from sklearn.metrics import recall_score\n",
    "\n",
    "\n",
    "y_predict=np.argmax(model2.predict(validation_padded), axis=-1)\n",
    "val=validation_label_seq.reshape(len(validation_label_seq))\n",
    "cm=confusion_matrix(val, y_predict)\n",
    "cm_plot_labels=['negativo','neutro', 'positivo']\n",
    "plot_confusion_matrix(cm, cm_plot_labels, title='Confusion matrix')\n",
    "fScore = f1_score (val, y_predict,average=None)\n",
    "precision = precision_score(val, y_predict,average=None)\n",
    "recall = recall_score(val, y_predict,average=None)\n",
    "print('\\t  Negativo', ' Neutro   ', ' positivo ')\n",
    "print('F-Score\\t',fScore)\n",
    "print('Precisão',precision)\n",
    "print('Recall\\t',recall)\n"
   ]
  }
 ],
 "metadata": {
  "accelerator": "GPU",
  "colab": {
   "name": "Trabalho FInal.ipynb",
   "provenance": []
  },
  "kernelspec": {
   "display_name": "Python 3",
   "language": "python",
   "name": "python3"
  },
  "language_info": {
   "codemirror_mode": {
    "name": "ipython",
    "version": 3
   },
   "file_extension": ".py",
   "mimetype": "text/x-python",
   "name": "python",
   "nbconvert_exporter": "python",
   "pygments_lexer": "ipython3",
   "version": "3.6.10"
  }
 },
 "nbformat": 4,
 "nbformat_minor": 1
}
